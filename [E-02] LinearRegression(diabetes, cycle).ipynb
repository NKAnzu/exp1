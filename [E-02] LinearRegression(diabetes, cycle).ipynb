{
 "cells": [
  {
   "cell_type": "markdown",
   "id": "9a7c365b",
   "metadata": {},
   "source": [
    "<h2> 2-12. 프로젝트 1 : 손수 설계하는 선형회귀, 당뇨병 수치를 맞춰보자!</h2>"
   ]
  },
  {
   "cell_type": "code",
   "execution_count": 2,
   "id": "75d52c1c",
   "metadata": {},
   "outputs": [],
   "source": [
    "from sklearn.datasets import load_diabetes\n",
    "data = load_diabetes()"
   ]
  },
  {
   "cell_type": "code",
   "execution_count": 3,
   "id": "eb513209",
   "metadata": {},
   "outputs": [
    {
     "data": {
      "text/html": [
       "<div>\n",
       "<style scoped>\n",
       "    .dataframe tbody tr th:only-of-type {\n",
       "        vertical-align: middle;\n",
       "    }\n",
       "\n",
       "    .dataframe tbody tr th {\n",
       "        vertical-align: top;\n",
       "    }\n",
       "\n",
       "    .dataframe thead th {\n",
       "        text-align: right;\n",
       "    }\n",
       "</style>\n",
       "<table border=\"1\" class=\"dataframe\">\n",
       "  <thead>\n",
       "    <tr style=\"text-align: right;\">\n",
       "      <th></th>\n",
       "      <th>age</th>\n",
       "      <th>sex</th>\n",
       "      <th>bmi</th>\n",
       "      <th>bp</th>\n",
       "      <th>s1</th>\n",
       "      <th>s2</th>\n",
       "      <th>s3</th>\n",
       "      <th>s4</th>\n",
       "      <th>s5</th>\n",
       "      <th>s6</th>\n",
       "      <th>target</th>\n",
       "    </tr>\n",
       "  </thead>\n",
       "  <tbody>\n",
       "    <tr>\n",
       "      <th>0</th>\n",
       "      <td>0.038076</td>\n",
       "      <td>0.050680</td>\n",
       "      <td>0.061696</td>\n",
       "      <td>0.021872</td>\n",
       "      <td>-0.044223</td>\n",
       "      <td>-0.034821</td>\n",
       "      <td>-0.043401</td>\n",
       "      <td>-0.002592</td>\n",
       "      <td>0.019908</td>\n",
       "      <td>-0.017646</td>\n",
       "      <td>151.0</td>\n",
       "    </tr>\n",
       "    <tr>\n",
       "      <th>1</th>\n",
       "      <td>-0.001882</td>\n",
       "      <td>-0.044642</td>\n",
       "      <td>-0.051474</td>\n",
       "      <td>-0.026328</td>\n",
       "      <td>-0.008449</td>\n",
       "      <td>-0.019163</td>\n",
       "      <td>0.074412</td>\n",
       "      <td>-0.039493</td>\n",
       "      <td>-0.068330</td>\n",
       "      <td>-0.092204</td>\n",
       "      <td>75.0</td>\n",
       "    </tr>\n",
       "    <tr>\n",
       "      <th>2</th>\n",
       "      <td>0.085299</td>\n",
       "      <td>0.050680</td>\n",
       "      <td>0.044451</td>\n",
       "      <td>-0.005671</td>\n",
       "      <td>-0.045599</td>\n",
       "      <td>-0.034194</td>\n",
       "      <td>-0.032356</td>\n",
       "      <td>-0.002592</td>\n",
       "      <td>0.002864</td>\n",
       "      <td>-0.025930</td>\n",
       "      <td>141.0</td>\n",
       "    </tr>\n",
       "    <tr>\n",
       "      <th>3</th>\n",
       "      <td>-0.089063</td>\n",
       "      <td>-0.044642</td>\n",
       "      <td>-0.011595</td>\n",
       "      <td>-0.036656</td>\n",
       "      <td>0.012191</td>\n",
       "      <td>0.024991</td>\n",
       "      <td>-0.036038</td>\n",
       "      <td>0.034309</td>\n",
       "      <td>0.022692</td>\n",
       "      <td>-0.009362</td>\n",
       "      <td>206.0</td>\n",
       "    </tr>\n",
       "    <tr>\n",
       "      <th>4</th>\n",
       "      <td>0.005383</td>\n",
       "      <td>-0.044642</td>\n",
       "      <td>-0.036385</td>\n",
       "      <td>0.021872</td>\n",
       "      <td>0.003935</td>\n",
       "      <td>0.015596</td>\n",
       "      <td>0.008142</td>\n",
       "      <td>-0.002592</td>\n",
       "      <td>-0.031991</td>\n",
       "      <td>-0.046641</td>\n",
       "      <td>135.0</td>\n",
       "    </tr>\n",
       "    <tr>\n",
       "      <th>...</th>\n",
       "      <td>...</td>\n",
       "      <td>...</td>\n",
       "      <td>...</td>\n",
       "      <td>...</td>\n",
       "      <td>...</td>\n",
       "      <td>...</td>\n",
       "      <td>...</td>\n",
       "      <td>...</td>\n",
       "      <td>...</td>\n",
       "      <td>...</td>\n",
       "      <td>...</td>\n",
       "    </tr>\n",
       "    <tr>\n",
       "      <th>437</th>\n",
       "      <td>0.041708</td>\n",
       "      <td>0.050680</td>\n",
       "      <td>0.019662</td>\n",
       "      <td>0.059744</td>\n",
       "      <td>-0.005697</td>\n",
       "      <td>-0.002566</td>\n",
       "      <td>-0.028674</td>\n",
       "      <td>-0.002592</td>\n",
       "      <td>0.031193</td>\n",
       "      <td>0.007207</td>\n",
       "      <td>178.0</td>\n",
       "    </tr>\n",
       "    <tr>\n",
       "      <th>438</th>\n",
       "      <td>-0.005515</td>\n",
       "      <td>0.050680</td>\n",
       "      <td>-0.015906</td>\n",
       "      <td>-0.067642</td>\n",
       "      <td>0.049341</td>\n",
       "      <td>0.079165</td>\n",
       "      <td>-0.028674</td>\n",
       "      <td>0.034309</td>\n",
       "      <td>-0.018118</td>\n",
       "      <td>0.044485</td>\n",
       "      <td>104.0</td>\n",
       "    </tr>\n",
       "    <tr>\n",
       "      <th>439</th>\n",
       "      <td>0.041708</td>\n",
       "      <td>0.050680</td>\n",
       "      <td>-0.015906</td>\n",
       "      <td>0.017282</td>\n",
       "      <td>-0.037344</td>\n",
       "      <td>-0.013840</td>\n",
       "      <td>-0.024993</td>\n",
       "      <td>-0.011080</td>\n",
       "      <td>-0.046879</td>\n",
       "      <td>0.015491</td>\n",
       "      <td>132.0</td>\n",
       "    </tr>\n",
       "    <tr>\n",
       "      <th>440</th>\n",
       "      <td>-0.045472</td>\n",
       "      <td>-0.044642</td>\n",
       "      <td>0.039062</td>\n",
       "      <td>0.001215</td>\n",
       "      <td>0.016318</td>\n",
       "      <td>0.015283</td>\n",
       "      <td>-0.028674</td>\n",
       "      <td>0.026560</td>\n",
       "      <td>0.044528</td>\n",
       "      <td>-0.025930</td>\n",
       "      <td>220.0</td>\n",
       "    </tr>\n",
       "    <tr>\n",
       "      <th>441</th>\n",
       "      <td>-0.045472</td>\n",
       "      <td>-0.044642</td>\n",
       "      <td>-0.073030</td>\n",
       "      <td>-0.081414</td>\n",
       "      <td>0.083740</td>\n",
       "      <td>0.027809</td>\n",
       "      <td>0.173816</td>\n",
       "      <td>-0.039493</td>\n",
       "      <td>-0.004220</td>\n",
       "      <td>0.003064</td>\n",
       "      <td>57.0</td>\n",
       "    </tr>\n",
       "  </tbody>\n",
       "</table>\n",
       "<p>442 rows × 11 columns</p>\n",
       "</div>"
      ],
      "text/plain": [
       "          age       sex       bmi        bp        s1        s2        s3  \\\n",
       "0    0.038076  0.050680  0.061696  0.021872 -0.044223 -0.034821 -0.043401   \n",
       "1   -0.001882 -0.044642 -0.051474 -0.026328 -0.008449 -0.019163  0.074412   \n",
       "2    0.085299  0.050680  0.044451 -0.005671 -0.045599 -0.034194 -0.032356   \n",
       "3   -0.089063 -0.044642 -0.011595 -0.036656  0.012191  0.024991 -0.036038   \n",
       "4    0.005383 -0.044642 -0.036385  0.021872  0.003935  0.015596  0.008142   \n",
       "..        ...       ...       ...       ...       ...       ...       ...   \n",
       "437  0.041708  0.050680  0.019662  0.059744 -0.005697 -0.002566 -0.028674   \n",
       "438 -0.005515  0.050680 -0.015906 -0.067642  0.049341  0.079165 -0.028674   \n",
       "439  0.041708  0.050680 -0.015906  0.017282 -0.037344 -0.013840 -0.024993   \n",
       "440 -0.045472 -0.044642  0.039062  0.001215  0.016318  0.015283 -0.028674   \n",
       "441 -0.045472 -0.044642 -0.073030 -0.081414  0.083740  0.027809  0.173816   \n",
       "\n",
       "           s4        s5        s6  target  \n",
       "0   -0.002592  0.019908 -0.017646   151.0  \n",
       "1   -0.039493 -0.068330 -0.092204    75.0  \n",
       "2   -0.002592  0.002864 -0.025930   141.0  \n",
       "3    0.034309  0.022692 -0.009362   206.0  \n",
       "4   -0.002592 -0.031991 -0.046641   135.0  \n",
       "..        ...       ...       ...     ...  \n",
       "437 -0.002592  0.031193  0.007207   178.0  \n",
       "438  0.034309 -0.018118  0.044485   104.0  \n",
       "439 -0.011080 -0.046879  0.015491   132.0  \n",
       "440  0.026560  0.044528 -0.025930   220.0  \n",
       "441 -0.039493 -0.004220  0.003064    57.0  \n",
       "\n",
       "[442 rows x 11 columns]"
      ]
     },
     "execution_count": 3,
     "metadata": {},
     "output_type": "execute_result"
    }
   ],
   "source": [
    "import numpy as np\n",
    "import pandas as pd\n",
    "import matplotlib.pyplot as plt\n",
    "df = pd.DataFrame(data= np.c_[data['data'], data['target']],\n",
    "                     columns= data['feature_names'] + ['target'])\n",
    "\n",
    "df"
   ]
  },
  {
   "cell_type": "code",
   "execution_count": 4,
   "id": "ea3d3a0b",
   "metadata": {},
   "outputs": [
    {
     "data": {
      "text/plain": [
       "(442, 10)"
      ]
     },
     "execution_count": 4,
     "metadata": {},
     "output_type": "execute_result"
    }
   ],
   "source": [
    "#1.데이터 가져오기 .. 이과정에서 기존 df 설정을 data와 target을 모두 가져왔으므로 열에서 :-1을 쓴다\n",
    "df_X = df.values[:,:-1]\n",
    "df_y = df.target\n",
    "df_X.shape"
   ]
  },
  {
   "cell_type": "code",
   "execution_count": 5,
   "id": "488b761b",
   "metadata": {
    "scrolled": false
   },
   "outputs": [
    {
     "data": {
      "image/png": "[encoded data removed]",
      "text/plain": [
       "<Figure size 432x288 with 1 Axes>"
      ]
     },
     "metadata": {
      "needs_background": "light"
     },
     "output_type": "display_data"
    },
    {
     "data": {
      "image/png": "[encoded data removed]",
      "text/plain": [
       "<Figure size 432x288 with 1 Axes>"
      ]
     },
     "metadata": {
      "needs_background": "light"
     },
     "output_type": "display_data"
    },
    {
     "data": {
      "image/png": "[encoded data removed]",
      "text/plain": [
       "<Figure size 432x288 with 1 Axes>"
      ]
     },
     "metadata": {
      "needs_background": "light"
     },
     "output_type": "display_data"
    },
    {
     "data": {
      "image/png": "[encoded data removed]",
      "text/plain": [
       "<Figure size 432x288 with 1 Axes>"
      ]
     },
     "metadata": {
      "needs_background": "light"
     },
     "output_type": "display_data"
    },
    {
     "data": {
      "image/png": "[encoded data removed]",
      "text/plain": [
       "<Figure size 432x288 with 1 Axes>"
      ]
     },
     "metadata": {
      "needs_background": "light"
     },
     "output_type": "display_data"
    },
    {
     "data": {
      "image/png": "[encoded data removed]",
      "text/plain": [
       "<Figure size 432x288 with 1 Axes>"
      ]
     },
     "metadata": {
      "needs_background": "light"
     },
     "output_type": "display_data"
    },
    {
     "data": {
      "image/png": "[encoded data removed]",
      "text/plain": [
       "<Figure size 432x288 with 1 Axes>"
      ]
     },
     "metadata": {
      "needs_background": "light"
     },
     "output_type": "display_data"
    },
    {
     "data": {
      "image/png": "[encoded data removed]",
      "text/plain": [
       "<Figure size 432x288 with 1 Axes>"
      ]
     },
     "metadata": {
      "needs_background": "light"
     },
     "output_type": "display_data"
    },
    {
     "data": {
      "image/png": "[encoded data removed]",
      "text/plain": [
       "<Figure size 432x288 with 1 Axes>"
      ]
     },
     "metadata": {
      "needs_background": "light"
     },
     "output_type": "display_data"
    },
    {
     "data": {
      "image/png": "[encoded data removed]",
      "text/plain": [
       "<Figure size 432x288 with 1 Axes>"
      ]
     },
     "metadata": {
      "needs_background": "light"
     },
     "output_type": "display_data"
    }
   ],
   "source": [
    "#먼저 plt.scatter을 통해 각 특성별로 나타나는 산포도를 확인해보자 \n",
    "for i in range(len(df_X[0])):\n",
    "    plt.scatter(df_X[:,i],df_y)\n",
    "    plt.show()\n",
    "#sex데이터는 극단적인 값들이라 포함하지 않는것이 좋아보인다."
   ]
  },
  {
   "cell_type": "code",
   "execution_count": 6,
   "id": "c6041127",
   "metadata": {},
   "outputs": [],
   "source": [
    "df = df.drop(labels=['sex','s4'], axis=1)"
   ]
  },
  {
   "cell_type": "code",
   "execution_count": 7,
   "id": "d2ae52fa",
   "metadata": {},
   "outputs": [
    {
     "data": {
      "text/plain": [
       "(442, 9)"
      ]
     },
     "execution_count": 7,
     "metadata": {},
     "output_type": "execute_result"
    }
   ],
   "source": [
    "df.shape"
   ]
  },
  {
   "cell_type": "code",
   "execution_count": 8,
   "id": "1144bcfe",
   "metadata": {},
   "outputs": [
    {
     "data": {
      "text/plain": [
       "array([[ 3.80759064e-02,  6.16962065e-02,  2.18723550e-02, ...,\n",
       "         1.99084209e-02, -1.76461252e-02,  1.51000000e+02],\n",
       "       [-1.88201653e-03, -5.14740612e-02, -2.63278347e-02, ...,\n",
       "        -6.83297436e-02, -9.22040496e-02,  7.50000000e+01],\n",
       "       [ 8.52989063e-02,  4.44512133e-02, -5.67061055e-03, ...,\n",
       "         2.86377052e-03, -2.59303390e-02,  1.41000000e+02],\n",
       "       ...,\n",
       "       [ 4.17084449e-02, -1.59062628e-02,  1.72818607e-02, ...,\n",
       "        -4.68794828e-02,  1.54907302e-02,  1.32000000e+02],\n",
       "       [-4.54724779e-02,  3.90621530e-02,  1.21513083e-03, ...,\n",
       "         4.45283740e-02, -2.59303390e-02,  2.20000000e+02],\n",
       "       [-4.54724779e-02, -7.30303027e-02, -8.14137658e-02, ...,\n",
       "        -4.21985971e-03,  3.06440941e-03,  5.70000000e+01]])"
      ]
     },
     "execution_count": 8,
     "metadata": {},
     "output_type": "execute_result"
    }
   ],
   "source": [
    "df.values"
   ]
  },
  {
   "cell_type": "code",
   "execution_count": 9,
   "id": "04dcc4fb",
   "metadata": {},
   "outputs": [],
   "source": [
    "#1.데이터 가져오기\n",
    "df_X = df.values[:,:-1]\n",
    "df_y = df.target\n"
   ]
  },
  {
   "cell_type": "code",
   "execution_count": 10,
   "id": "da63bfcb",
   "metadata": {},
   "outputs": [
    {
     "name": "stdout",
     "output_type": "stream",
     "text": [
      "[[ 0.03807591  0.06169621  0.02187235 ... -0.04340085  0.01990842\n",
      "  -0.01764613]\n",
      " [-0.00188202 -0.05147406 -0.02632783 ...  0.07441156 -0.06832974\n",
      "  -0.09220405]\n",
      " [ 0.08529891  0.04445121 -0.00567061 ... -0.03235593  0.00286377\n",
      "  -0.02593034]\n",
      " ...\n",
      " [ 0.04170844 -0.01590626  0.01728186 ... -0.02499266 -0.04687948\n",
      "   0.01549073]\n",
      " [-0.04547248  0.03906215  0.00121513 ... -0.02867429  0.04452837\n",
      "  -0.02593034]\n",
      " [-0.04547248 -0.0730303  -0.08141377 ...  0.17381578 -0.00421986\n",
      "   0.00306441]]\n",
      "(442, 8)\n"
     ]
    }
   ],
   "source": [
    "#2. 모델에 입력할 데이터 X 준비하기\n",
    "X = df_X\n",
    "print(X)\n",
    "print(X.shape)"
   ]
  },
  {
   "cell_type": "code",
   "execution_count": 11,
   "id": "c7550188",
   "metadata": {},
   "outputs": [
    {
     "name": "stdout",
     "output_type": "stream",
     "text": [
      "[151.  75. 141. 206. 135.  97. 138.  63. 110. 310. 101.  69. 179. 185.\n",
      " 118. 171. 166. 144.  97. 168.  68.  49.  68. 245. 184. 202. 137.  85.\n",
      " 131. 283. 129.  59. 341.  87.  65. 102. 265. 276. 252.  90. 100.  55.\n",
      "  61.  92. 259.  53. 190. 142.  75. 142. 155. 225.  59. 104. 182. 128.\n",
      "  52.  37. 170. 170.  61. 144.  52. 128.  71. 163. 150.  97. 160. 178.\n",
      "  48. 270. 202. 111.  85.  42. 170. 200. 252. 113. 143.  51.  52. 210.\n",
      "  65. 141.  55. 134.  42. 111.  98. 164.  48.  96.  90. 162. 150. 279.\n",
      "  92.  83. 128. 102. 302. 198.  95.  53. 134. 144. 232.  81. 104.  59.\n",
      " 246. 297. 258. 229. 275. 281. 179. 200. 200. 173. 180.  84. 121. 161.\n",
      "  99. 109. 115. 268. 274. 158. 107.  83. 103. 272.  85. 280. 336. 281.\n",
      " 118. 317. 235.  60. 174. 259. 178. 128.  96. 126. 288.  88. 292.  71.\n",
      " 197. 186.  25.  84.  96. 195.  53. 217. 172. 131. 214.  59.  70. 220.\n",
      " 268. 152.  47.  74. 295. 101. 151. 127. 237. 225.  81. 151. 107.  64.\n",
      " 138. 185. 265. 101. 137. 143. 141.  79. 292. 178.  91. 116.  86. 122.\n",
      "  72. 129. 142.  90. 158.  39. 196. 222. 277.  99. 196. 202. 155.  77.\n",
      " 191.  70.  73.  49.  65. 263. 248. 296. 214. 185.  78.  93. 252. 150.\n",
      "  77. 208.  77. 108. 160.  53. 220. 154. 259.  90. 246. 124.  67.  72.\n",
      " 257. 262. 275. 177.  71.  47. 187. 125.  78.  51. 258. 215. 303. 243.\n",
      "  91. 150. 310. 153. 346.  63.  89.  50.  39. 103. 308. 116. 145.  74.\n",
      "  45. 115. 264.  87. 202. 127. 182. 241.  66.  94. 283.  64. 102. 200.\n",
      " 265.  94. 230. 181. 156. 233.  60. 219.  80.  68. 332. 248.  84. 200.\n",
      "  55.  85.  89.  31. 129.  83. 275.  65. 198. 236. 253. 124.  44. 172.\n",
      " 114. 142. 109. 180. 144. 163. 147.  97. 220. 190. 109. 191. 122. 230.\n",
      " 242. 248. 249. 192. 131. 237.  78. 135. 244. 199. 270. 164.  72.  96.\n",
      " 306.  91. 214.  95. 216. 263. 178. 113. 200. 139. 139.  88. 148.  88.\n",
      " 243.  71.  77. 109. 272.  60.  54. 221.  90. 311. 281. 182. 321.  58.\n",
      " 262. 206. 233. 242. 123. 167.  63. 197.  71. 168. 140. 217. 121. 235.\n",
      " 245.  40.  52. 104. 132.  88.  69. 219.  72. 201. 110.  51. 277.  63.\n",
      " 118.  69. 273. 258.  43. 198. 242. 232. 175.  93. 168. 275. 293. 281.\n",
      "  72. 140. 189. 181. 209. 136. 261. 113. 131. 174. 257.  55.  84.  42.\n",
      " 146. 212. 233.  91. 111. 152. 120.  67. 310.  94. 183.  66. 173.  72.\n",
      "  49.  64.  48. 178. 104. 132. 220.  57.]\n",
      "(442,)\n"
     ]
    }
   ],
   "source": [
    "#3. 모델에 에측할 데이터 y 준비하기\n",
    "y = np.array(df_y) \n",
    "print(y)\n",
    "print(y.shape)"
   ]
  },
  {
   "cell_type": "markdown",
   "id": "7ed89d05",
   "metadata": {},
   "source": [
    "442개의 데이터와 9개의 열로 이루어진 X, 442개의 데이터로 이루어진 y"
   ]
  },
  {
   "cell_type": "code",
   "execution_count": 12,
   "id": "5110479f",
   "metadata": {},
   "outputs": [],
   "source": [
    "#4. train데이터와 test 데이터로 분리하기\n",
    "from sklearn.model_selection import train_test_split\n",
    "X_train, X_test, y_train, y_test = train_test_split(X,y, test_size=0.2, random_state = 42)\n"
   ]
  },
  {
   "cell_type": "code",
   "execution_count": 13,
   "id": "ec859dac",
   "metadata": {},
   "outputs": [
    {
     "name": "stdout",
     "output_type": "stream",
     "text": [
      "(353, 8) (89, 8) (353,) (89,)\n",
      "(442, 8) (442,)\n"
     ]
    }
   ],
   "source": [
    "print(X_train.shape, X_test.shape, y_train.shape, y_test.shape)\n",
    "print(X.shape, y.shape)\n",
    "#모델에는 X_train과 y_train으로 학습하고 X_test로 예측하자."
   ]
  },
  {
   "cell_type": "code",
   "execution_count": 14,
   "id": "5fac6513",
   "metadata": {
    "scrolled": true
   },
   "outputs": [
    {
     "data": {
      "text/plain": [
       "array([144., 150., 280., 125.,  59.,  65., 281., 277., 167.,  90.,  72.,\n",
       "       178.,  88., 270., 101., 197.,  97.,  53.,  71., 262.,  52., 102.,\n",
       "       166., 189., 173., 220., 206.,  97.,  60.,  61., 242., 121., 128.,\n",
       "       104., 265., 132., 283., 174., 129., 257., 137.,  63.,  93., 232.,\n",
       "       208., 261., 179., 258., 262.,  51., 237.,  71., 139., 268.,  69.,\n",
       "       317., 249., 154., 192., 116.,  81., 122., 259., 191., 292.,  55.,\n",
       "       107., 210.,  91., 253.,  85., 252.,  59.,  78., 200.,  78., 245.,\n",
       "       175.,  42., 127.,  53.,  94., 104., 199., 265., 281., 248., 257.,\n",
       "       215., 303., 170.,  59., 277., 209., 138., 198., 124.,  96., 288.,\n",
       "       225., 265., 101.,  55., 198.,  51., 252.,  64., 220., 131., 212.,\n",
       "       142., 103., 155., 121.,  86., 111.,  65., 131.,  51., 128., 141.,\n",
       "        48., 109., 178.,  88.,  84., 216., 150.,  60.,  96., 190.,  74.,\n",
       "       279., 182., 160., 245., 276., 174., 180., 150., 196., 138.,  97.,\n",
       "       246., 321., 308., 109.,  69., 182., 258., 161., 178., 214.,  45.,\n",
       "       150., 160.,  55., 197., 185., 268., 310., 123.,  68.,  72., 185.,\n",
       "       144., 147., 168., 178., 246., 151., 127.,  83., 332., 152., 109.,\n",
       "        90.,  66., 214.,  85., 129.,  89., 259., 229., 200.,  77.,  54.,\n",
       "        31., 109., 206., 144., 118.,  83., 242., 259.,  72., 163., 181.,\n",
       "       141.,  71., 137., 195., 179., 102., 131.,  47., 235.,  77., 198.,\n",
       "        93., 162., 225., 275., 183., 306.,  81.,  55., 146., 196., 230.,\n",
       "       310.,  40., 135., 346.,  43., 128.,  77., 235.,  49.,  74.,  92.,\n",
       "        84., 263., 144., 142., 341., 115., 158., 273.,  85.,  88., 220.,\n",
       "        39.,  80., 172., 217., 336.,  52., 272., 115., 110., 131.,  71.,\n",
       "       275., 118.,  25., 100., 281., 221., 248., 200., 132.,  91.,  67.,\n",
       "       202.,  73.,  85., 275., 243.,  66., 293., 236., 243.,  87.,  39.,\n",
       "       217.,  92., 296., 292., 142.,  50.,  53., 104.,  75., 120., 142.,\n",
       "       143.,  99.,  65., 116., 233., 164.,  95.,  59., 139., 145., 177.,\n",
       "       185.,  97.,  42., 201., 241.,  70.,  78.,  49., 103.,  44., 111.,\n",
       "       191.,  47., 182.,  58., 155., 151.,  79., 104., 143., 152., 170.,\n",
       "        75., 200., 124.,  91.,  49., 163.,  53., 283., 178., 219., 200.,\n",
       "       113., 113.,  63., 114., 126., 274.,  88., 311.,  83.,  71., 134.,\n",
       "       244.,  65., 173.,  57.,  68., 141., 270., 134., 202., 148.,  64.,\n",
       "       302.])"
      ]
     },
     "execution_count": 14,
     "metadata": {},
     "output_type": "execute_result"
    }
   ],
   "source": [
    "y_train"
   ]
  },
  {
   "cell_type": "code",
   "execution_count": 15,
   "id": "a725bd4a",
   "metadata": {},
   "outputs": [
    {
     "name": "stdout",
     "output_type": "stream",
     "text": [
      "10\n"
     ]
    }
   ],
   "source": [
    "print(len(data.feature_names))"
   ]
  },
  {
   "cell_type": "code",
   "execution_count": 16,
   "id": "d23074fc",
   "metadata": {},
   "outputs": [
    {
     "data": {
      "text/plain": [
       "8"
      ]
     },
     "execution_count": 16,
     "metadata": {},
     "output_type": "execute_result"
    }
   ],
   "source": [
    "len(df_X[0])"
   ]
  },
  {
   "cell_type": "code",
   "execution_count": 17,
   "id": "9b9d5374",
   "metadata": {},
   "outputs": [
    {
     "data": {
      "text/plain": [
       "442"
      ]
     },
     "execution_count": 17,
     "metadata": {},
     "output_type": "execute_result"
    }
   ],
   "source": [
    "len(df_X[:,0])"
   ]
  },
  {
   "cell_type": "code",
   "execution_count": 18,
   "id": "ef0bee49",
   "metadata": {},
   "outputs": [
    {
     "name": "stdout",
     "output_type": "stream",
     "text": [
      "Iteration 100 :Loss 3031.0210\n",
      "Iteration 200 :Loss 3005.3439\n",
      "Iteration 300 :Loss 3002.3347\n",
      "Iteration 400 :Loss 3001.2786\n",
      "Iteration 500 :Loss 3000.4550\n",
      "Iteration 600 :Loss 2999.6853\n",
      "Iteration 700 :Loss 2998.9490\n",
      "Iteration 800 :Loss 2998.2425\n",
      "Iteration 900 :Loss 2997.5645\n",
      "Iteration 1000 :Loss 2996.9136\n",
      "Iteration 1100 :Loss 2996.2890\n",
      "Iteration 1200 :Loss 2995.6894\n",
      "Iteration 1300 :Loss 2995.1139\n",
      "Iteration 1400 :Loss 2994.5615\n",
      "Iteration 1500 :Loss 2994.0313\n",
      "Iteration 1600 :Loss 2993.5224\n",
      "Iteration 1700 :Loss 2993.0339\n",
      "Iteration 1800 :Loss 2992.5651\n",
      "Iteration 1900 :Loss 2992.1151\n",
      "Iteration 2000 :Loss 2991.6832\n",
      "2960.249767542859\n"
     ]
    },
    {
     "data": {
      "image/png": "[encoded data removed]",
      "text/plain": [
       "<Figure size 432x288 with 1 Axes>"
      ]
     },
     "metadata": {
      "needs_background": "light"
     },
     "output_type": "display_data"
    }
   ],
   "source": [
    "#입력갯수에 맞는 가중치 w와 b 준비\n",
    "import numpy as np\n",
    "W = np.random.rand(len(df_X[0]))\n",
    "b = np.random.rand()\n",
    "#모델 준비하기 - 학습모델 수식을 통해 \n",
    "def model(X,W,b):# X*W+b만 하면 현재 상태에서 한가지값만 나타나게 되므로 행렬 값에대해서\n",
    "    # 한 행에서 가중치와 x들을 곱해서 +b를 해주는 식으로해야함\n",
    "    #따라서 랜덤으로 정해진 W와 b를 통해 예측된 predictions값을 구하는게 model\n",
    "    #X_train을 넣었다면 y_train값이 나오도록 해야할것임\n",
    "    #X_test를 넣었다면 y_test값이 나오도록 해야한다\n",
    "    #단, w와 b의 값이 최적의 값이 아니기전까진 계속해서 w와 b가 바뀌어야함\n",
    "    #바뀌는 과정은 여기서 하지 않는다.\n",
    "    #먼저 predictions의 값을 구해보자.\n",
    "    predictions = 0\n",
    "    for i in range(len(W)):\n",
    "        predictions += X[:, i] * W[i]\n",
    "    predictions += b\n",
    "    return predictions\n",
    "#predictions를 통해 \n",
    "\n",
    "\n",
    "#MSE  mean squared error 오차 제곱 평균 을 통해 손실함수 계산 - 이걸 줄이는 방식으로 ...\n",
    "#y_pred와 y_real의 값차이에 제곱, 평균을 구하면 손실Loss를 구한다 (MSE는 Loss를 구하기 위한 손실함수이다.)\n",
    "def MSE(a,b):\n",
    "    return ((a-b)**2).mean() \n",
    "\n",
    "#loss를 구하기위해 model을 통해 prediction을 구하고, 그 값과 y_real값의 차이 loss를 return한다.\n",
    "def loss(X,W,b,y): \n",
    "    predictions = model(X,W,b) #모델\n",
    "    return MSE(y, predictions) #Loss \n",
    "\n",
    "#gradient에서는 말그대로 기울기를 구하는 것인데\n",
    "#이 기울기를 구하는 함수는 lim w의 변화량->0  에서 (f(w+w의변화량) - f(w))/w의 변화량 이라 보면 된다\n",
    "#loss라고 되어있어서 복잡하게 보일수 있으나, 사실상 미분구하는 것은 w이므로 나머지 매개변수값은 무시된다.\n",
    "#따라서 loss(w)를 f(w)라 생각하고 f(w)의 w에 대한 미분공식을 사용한 것이라 보면 된다\n",
    "#각 W와 b의 변화량에 초점을 잡고 dW, db를 구했다.\n",
    "\n",
    "#아래의 gradient는 한 변수에 대해서고\n",
    "#우리가 해야할것은 다변수에 대해서 해야한다\n",
    "#def gradient(X,W,b,y):\n",
    "#    dW = (loss(X,W+0.0001,b,y) - loss(X,W,b,y)) / 0.0001\n",
    "#    db = (loss(X,W,b+0.0001,y) - loss(X,W,b,y)) / 0.0001\n",
    "#    return dW, db\n",
    "\n",
    "# 공식 1/N시그마i->N {y_real-y_pred}**2에 대해서 미분하는 것인데\n",
    "# W에서는 이는 곧 y_pred에 x값들이 있으므로 1/N * 2 * (-x) * (y_real - y_pred)\n",
    "# b에서는 이는 곧 y_pred에 x값이 없다 그래서 2 * (y_real - y_pred)의 평균 \n",
    "# 7. 기울기 구하기\n",
    "\n",
    "def gradient(X,W,b,y):\n",
    "    N = len(W)\n",
    "    y_pred = model(X,W,b)\n",
    "    dW = 1/N * 2* X.T.dot(y_pred-y)\n",
    "    db = 2 * (y_pred-y).mean()\n",
    "    return dW, db\n",
    "\n",
    "\n",
    "#8. (하이퍼파라미터) 학습률 정하기\n",
    "#LEARNING_RATE = 1\n",
    "\n",
    "#loss의 추이를 살펴보기위해 배열로 저장하고 추후에 출력하게된다.\n",
    "losses = []\n",
    "\n",
    "#실제 모든 과정을 이 반복문 안에 반복하게된다.\n",
    "#dW,db의 기울기를 구하고\n",
    "# W = W-ng를 통해 각 W,b 가중치값들을 늘리거나 줄이게 된다.\n",
    "# L에는 바꾼 뒤의 W,b 를 사용한 loss를 구하고 이를 append한다\n",
    "LEARNING_RATE = 0.1#최적의 학습률이라 생각한다. 근데 뭔가... 이상하다!\n",
    "\n",
    "#9. 모델 학습하기\n",
    "for i in range(1, 2001):\n",
    "    dW , db = gradient(X_train, W, b, y_train)\n",
    "#    print('dW:',dW,'db: ',db)\n",
    "    W -= LEARNING_RATE*dW\n",
    "    b -= LEARNING_RATE*db\n",
    "    L = loss(X_train,W,b,y_train)\n",
    "    losses.append(L)\n",
    "    if i%100 ==0:\n",
    "        print(\"Iteration %d :Loss %0.4f\" %(i, L))\n",
    "    \n",
    "#10. test 데이터에 대한 성능 확인하기   \n",
    "test_loss = loss(X_test, W,b, y_test)\n",
    "print(test_loss)\n",
    "#tesd_loss를 얻은결과 train했을때 얻은 최적w의 loss와 같다\n",
    "\n",
    "#11. 정답 데이터와 예측한 데이터 시각화하기\n",
    "# x에는 X 데이터의 첫 번째 컬럼을, y축에는 정답인 target 데이터를 넣어서 모델이 예측한 데이터를 시각화해 주세요.\n",
    "def model_alpha(X,W,b):\n",
    "    return X*W+b\n",
    "\n",
    "j=0\n",
    "y_pred = model_alpha(df_X[:,j], W[j], b)\n",
    "plt.scatter(df_X[:,j], df_y)\n",
    "plt.plot(df_X[:,j], y_pred, color='r')\n",
    "plt.show()\n",
    "\n",
    "#scatter로 원래 값 target의 데이터를 출력하고, plot으로 모델이 예측한 데이터를 그렸다.\n",
    "#for j in  range(0,len(W)):\n",
    "#    y_pred = model_alpha(df_X[:,j], W[j], b)\n",
    "#    plt.scatter(df_X[:,j], df_y)\n",
    "#    plt.plot(df_X[:,j], y_pred, color='r')\n",
    "#    print(W[j])\n",
    "#    plt.show()\n",
    "\n"
   ]
  },
  {
   "cell_type": "markdown",
   "id": "89c7ca4a",
   "metadata": {},
   "source": [
    "<H3>회고</H3>\n",
    "처음에 이 프로젝트를 수행할 때에는 먼저 데이터를 어떻게 준비할지를 생각을 안해서 10개의 특성을 모두 넣고  \n",
    "다변수 경사하강법을 통해 최적의 w와 b를 구하려 했었다.  \n",
    "\n",
    "하지만 loss가 생각보다 큰 수라서 이게 아닌가싶어서 다른 방법을 여러번 찾기도 했지만   \n",
    "모든 측정값의 loss를 측정하는 것이라 2960이라는 수가 나온것 같아 의심하면서도 일단 진행하게 되었다  \n",
    "\n",
    "그래서 진행하다 column name : sex, s4는 값이 극단적으로 나뉘어있어 제외하게 되었다.\n",
    "그후 기존에 학습했던 모델 학습방식을 작성해 학습하고, loss 줄이고, 마지막으로 예측값과 정답값의 비교를 하게 되는데\n",
    "\n",
    "scatter을 통해 정답값을 표현하여 산개되있는 모습을 그리고 그 산포도의 전체적인 동향을\n",
    "plot을 통해 예측값을 표현하여 직선 하나와 비교하게 되는 모습이 되었다.\n",
    "\n",
    "for문을 사용해 각 컬럼별로 비교 그래프를 작성해보기도 하였으며, 모두 정답값의 산포도를 잘 따라가는 모습을 확인하였다.\n",
    "\n",
    "진행을 하면서 이게 맞나? 라는 생각을 자주하게 되었던것 같다.\n",
    "데이터의 특성상 이렇게 진행되는게 맞는것 같긴 하나 loss를 더 줄일수 있는 방법이 없을까 궁금하다.\n",
    "\n",
    "\n",
    "\n",
    "\n",
    "\n",
    "\n"
   ]
  },
  {
   "cell_type": "markdown",
   "id": "87211dcf",
   "metadata": {},
   "source": [
    "<h2>2-13. 프로젝트 2 : 날씨 좋은 월요일 오후 세 시, 자전거 타는 사람은 몇 명?</h2>"
   ]
  },
  {
   "cell_type": "markdown",
   "id": "5b07ce94",
   "metadata": {},
   "source": [
    "<h2>(1) 데이터 가져오기</h2>\n",
    "\n",
    "터미널에서 ~/data/data/bike-sharing-demand 경로에 train.csv 데이터를 train 변수로 가져 옵니다.\n",
    "\n",
    "https://www.kaggle.com/c/bike-sharing-demand/data 상세확인 가능"
   ]
  },
  {
   "cell_type": "code",
   "execution_count": 28,
   "id": "d831a0cc",
   "metadata": {},
   "outputs": [],
   "source": [
    "import pandas as pd\n",
    "train = pd.read_csv('~/aiffel/bike_regression/data/train.csv')"
   ]
  },
  {
   "cell_type": "markdown",
   "id": "8870f316",
   "metadata": {},
   "source": [
    "<h2>(2) datetime 컬럼을 datetime 자료형으로 변환하고 연, 월, 일, 시, 분, 초까지 6가지 컬럼 생성하기</h2>\n",
    "\n",
    "https://stackoverflow.com/questions/25146121/extracting-just-month-and-year-separately-from-pandas-datetime-column"
   ]
  },
  {
   "cell_type": "code",
   "execution_count": 31,
   "id": "74d76279",
   "metadata": {},
   "outputs": [
    {
     "data": {
      "text/html": [
       "<div>\n",
       "<style scoped>\n",
       "    .dataframe tbody tr th:only-of-type {\n",
       "        vertical-align: middle;\n",
       "    }\n",
       "\n",
       "    .dataframe tbody tr th {\n",
       "        vertical-align: top;\n",
       "    }\n",
       "\n",
       "    .dataframe thead th {\n",
       "        text-align: right;\n",
       "    }\n",
       "</style>\n",
       "<table border=\"1\" class=\"dataframe\">\n",
       "  <thead>\n",
       "    <tr style=\"text-align: right;\">\n",
       "      <th></th>\n",
       "      <th>datetime</th>\n",
       "      <th>season</th>\n",
       "      <th>holiday</th>\n",
       "      <th>workingday</th>\n",
       "      <th>weather</th>\n",
       "      <th>temp</th>\n",
       "      <th>atemp</th>\n",
       "      <th>humidity</th>\n",
       "      <th>windspeed</th>\n",
       "      <th>casual</th>\n",
       "      <th>registered</th>\n",
       "      <th>count</th>\n",
       "      <th>year</th>\n",
       "      <th>month</th>\n",
       "      <th>day</th>\n",
       "      <th>hour</th>\n",
       "      <th>min</th>\n",
       "      <th>sec</th>\n",
       "    </tr>\n",
       "  </thead>\n",
       "  <tbody>\n",
       "    <tr>\n",
       "      <th>0</th>\n",
       "      <td>2011-01-01 00:00:00</td>\n",
       "      <td>1</td>\n",
       "      <td>0</td>\n",
       "      <td>0</td>\n",
       "      <td>1</td>\n",
       "      <td>9.84</td>\n",
       "      <td>14.395</td>\n",
       "      <td>81</td>\n",
       "      <td>0.0000</td>\n",
       "      <td>3</td>\n",
       "      <td>13</td>\n",
       "      <td>16</td>\n",
       "      <td>2011</td>\n",
       "      <td>01</td>\n",
       "      <td>01</td>\n",
       "      <td>00</td>\n",
       "      <td>00</td>\n",
       "      <td>00</td>\n",
       "    </tr>\n",
       "    <tr>\n",
       "      <th>1</th>\n",
       "      <td>2011-01-01 01:00:00</td>\n",
       "      <td>1</td>\n",
       "      <td>0</td>\n",
       "      <td>0</td>\n",
       "      <td>1</td>\n",
       "      <td>9.02</td>\n",
       "      <td>13.635</td>\n",
       "      <td>80</td>\n",
       "      <td>0.0000</td>\n",
       "      <td>8</td>\n",
       "      <td>32</td>\n",
       "      <td>40</td>\n",
       "      <td>2011</td>\n",
       "      <td>01</td>\n",
       "      <td>01</td>\n",
       "      <td>01</td>\n",
       "      <td>00</td>\n",
       "      <td>00</td>\n",
       "    </tr>\n",
       "    <tr>\n",
       "      <th>2</th>\n",
       "      <td>2011-01-01 02:00:00</td>\n",
       "      <td>1</td>\n",
       "      <td>0</td>\n",
       "      <td>0</td>\n",
       "      <td>1</td>\n",
       "      <td>9.02</td>\n",
       "      <td>13.635</td>\n",
       "      <td>80</td>\n",
       "      <td>0.0000</td>\n",
       "      <td>5</td>\n",
       "      <td>27</td>\n",
       "      <td>32</td>\n",
       "      <td>2011</td>\n",
       "      <td>01</td>\n",
       "      <td>01</td>\n",
       "      <td>02</td>\n",
       "      <td>00</td>\n",
       "      <td>00</td>\n",
       "    </tr>\n",
       "    <tr>\n",
       "      <th>3</th>\n",
       "      <td>2011-01-01 03:00:00</td>\n",
       "      <td>1</td>\n",
       "      <td>0</td>\n",
       "      <td>0</td>\n",
       "      <td>1</td>\n",
       "      <td>9.84</td>\n",
       "      <td>14.395</td>\n",
       "      <td>75</td>\n",
       "      <td>0.0000</td>\n",
       "      <td>3</td>\n",
       "      <td>10</td>\n",
       "      <td>13</td>\n",
       "      <td>2011</td>\n",
       "      <td>01</td>\n",
       "      <td>01</td>\n",
       "      <td>03</td>\n",
       "      <td>00</td>\n",
       "      <td>00</td>\n",
       "    </tr>\n",
       "    <tr>\n",
       "      <th>4</th>\n",
       "      <td>2011-01-01 04:00:00</td>\n",
       "      <td>1</td>\n",
       "      <td>0</td>\n",
       "      <td>0</td>\n",
       "      <td>1</td>\n",
       "      <td>9.84</td>\n",
       "      <td>14.395</td>\n",
       "      <td>75</td>\n",
       "      <td>0.0000</td>\n",
       "      <td>0</td>\n",
       "      <td>1</td>\n",
       "      <td>1</td>\n",
       "      <td>2011</td>\n",
       "      <td>01</td>\n",
       "      <td>01</td>\n",
       "      <td>04</td>\n",
       "      <td>00</td>\n",
       "      <td>00</td>\n",
       "    </tr>\n",
       "    <tr>\n",
       "      <th>...</th>\n",
       "      <td>...</td>\n",
       "      <td>...</td>\n",
       "      <td>...</td>\n",
       "      <td>...</td>\n",
       "      <td>...</td>\n",
       "      <td>...</td>\n",
       "      <td>...</td>\n",
       "      <td>...</td>\n",
       "      <td>...</td>\n",
       "      <td>...</td>\n",
       "      <td>...</td>\n",
       "      <td>...</td>\n",
       "      <td>...</td>\n",
       "      <td>...</td>\n",
       "      <td>...</td>\n",
       "      <td>...</td>\n",
       "      <td>...</td>\n",
       "      <td>...</td>\n",
       "    </tr>\n",
       "    <tr>\n",
       "      <th>10881</th>\n",
       "      <td>2012-12-19 19:00:00</td>\n",
       "      <td>4</td>\n",
       "      <td>0</td>\n",
       "      <td>1</td>\n",
       "      <td>1</td>\n",
       "      <td>15.58</td>\n",
       "      <td>19.695</td>\n",
       "      <td>50</td>\n",
       "      <td>26.0027</td>\n",
       "      <td>7</td>\n",
       "      <td>329</td>\n",
       "      <td>336</td>\n",
       "      <td>2012</td>\n",
       "      <td>12</td>\n",
       "      <td>19</td>\n",
       "      <td>19</td>\n",
       "      <td>00</td>\n",
       "      <td>00</td>\n",
       "    </tr>\n",
       "    <tr>\n",
       "      <th>10882</th>\n",
       "      <td>2012-12-19 20:00:00</td>\n",
       "      <td>4</td>\n",
       "      <td>0</td>\n",
       "      <td>1</td>\n",
       "      <td>1</td>\n",
       "      <td>14.76</td>\n",
       "      <td>17.425</td>\n",
       "      <td>57</td>\n",
       "      <td>15.0013</td>\n",
       "      <td>10</td>\n",
       "      <td>231</td>\n",
       "      <td>241</td>\n",
       "      <td>2012</td>\n",
       "      <td>12</td>\n",
       "      <td>19</td>\n",
       "      <td>20</td>\n",
       "      <td>00</td>\n",
       "      <td>00</td>\n",
       "    </tr>\n",
       "    <tr>\n",
       "      <th>10883</th>\n",
       "      <td>2012-12-19 21:00:00</td>\n",
       "      <td>4</td>\n",
       "      <td>0</td>\n",
       "      <td>1</td>\n",
       "      <td>1</td>\n",
       "      <td>13.94</td>\n",
       "      <td>15.910</td>\n",
       "      <td>61</td>\n",
       "      <td>15.0013</td>\n",
       "      <td>4</td>\n",
       "      <td>164</td>\n",
       "      <td>168</td>\n",
       "      <td>2012</td>\n",
       "      <td>12</td>\n",
       "      <td>19</td>\n",
       "      <td>21</td>\n",
       "      <td>00</td>\n",
       "      <td>00</td>\n",
       "    </tr>\n",
       "    <tr>\n",
       "      <th>10884</th>\n",
       "      <td>2012-12-19 22:00:00</td>\n",
       "      <td>4</td>\n",
       "      <td>0</td>\n",
       "      <td>1</td>\n",
       "      <td>1</td>\n",
       "      <td>13.94</td>\n",
       "      <td>17.425</td>\n",
       "      <td>61</td>\n",
       "      <td>6.0032</td>\n",
       "      <td>12</td>\n",
       "      <td>117</td>\n",
       "      <td>129</td>\n",
       "      <td>2012</td>\n",
       "      <td>12</td>\n",
       "      <td>19</td>\n",
       "      <td>22</td>\n",
       "      <td>00</td>\n",
       "      <td>00</td>\n",
       "    </tr>\n",
       "    <tr>\n",
       "      <th>10885</th>\n",
       "      <td>2012-12-19 23:00:00</td>\n",
       "      <td>4</td>\n",
       "      <td>0</td>\n",
       "      <td>1</td>\n",
       "      <td>1</td>\n",
       "      <td>13.12</td>\n",
       "      <td>16.665</td>\n",
       "      <td>66</td>\n",
       "      <td>8.9981</td>\n",
       "      <td>4</td>\n",
       "      <td>84</td>\n",
       "      <td>88</td>\n",
       "      <td>2012</td>\n",
       "      <td>12</td>\n",
       "      <td>19</td>\n",
       "      <td>23</td>\n",
       "      <td>00</td>\n",
       "      <td>00</td>\n",
       "    </tr>\n",
       "  </tbody>\n",
       "</table>\n",
       "<p>10886 rows × 18 columns</p>\n",
       "</div>"
      ],
      "text/plain": [
       "                  datetime  season  holiday  workingday  weather   temp  \\\n",
       "0      2011-01-01 00:00:00       1        0           0        1   9.84   \n",
       "1      2011-01-01 01:00:00       1        0           0        1   9.02   \n",
       "2      2011-01-01 02:00:00       1        0           0        1   9.02   \n",
       "3      2011-01-01 03:00:00       1        0           0        1   9.84   \n",
       "4      2011-01-01 04:00:00       1        0           0        1   9.84   \n",
       "...                    ...     ...      ...         ...      ...    ...   \n",
       "10881  2012-12-19 19:00:00       4        0           1        1  15.58   \n",
       "10882  2012-12-19 20:00:00       4        0           1        1  14.76   \n",
       "10883  2012-12-19 21:00:00       4        0           1        1  13.94   \n",
       "10884  2012-12-19 22:00:00       4        0           1        1  13.94   \n",
       "10885  2012-12-19 23:00:00       4        0           1        1  13.12   \n",
       "\n",
       "        atemp  humidity  windspeed  casual  registered  count  year month day  \\\n",
       "0      14.395        81     0.0000       3          13     16  2011    01  01   \n",
       "1      13.635        80     0.0000       8          32     40  2011    01  01   \n",
       "2      13.635        80     0.0000       5          27     32  2011    01  01   \n",
       "3      14.395        75     0.0000       3          10     13  2011    01  01   \n",
       "4      14.395        75     0.0000       0           1      1  2011    01  01   \n",
       "...       ...       ...        ...     ...         ...    ...   ...   ...  ..   \n",
       "10881  19.695        50    26.0027       7         329    336  2012    12  19   \n",
       "10882  17.425        57    15.0013      10         231    241  2012    12  19   \n",
       "10883  15.910        61    15.0013       4         164    168  2012    12  19   \n",
       "10884  17.425        61     6.0032      12         117    129  2012    12  19   \n",
       "10885  16.665        66     8.9981       4          84     88  2012    12  19   \n",
       "\n",
       "      hour min sec  \n",
       "0       00  00  00  \n",
       "1       01  00  00  \n",
       "2       02  00  00  \n",
       "3       03  00  00  \n",
       "4       04  00  00  \n",
       "...    ...  ..  ..  \n",
       "10881   19  00  00  \n",
       "10882   20  00  00  \n",
       "10883   21  00  00  \n",
       "10884   22  00  00  \n",
       "10885   23  00  00  \n",
       "\n",
       "[10886 rows x 18 columns]"
      ]
     },
     "execution_count": 31,
     "metadata": {},
     "output_type": "execute_result"
    }
   ],
   "source": [
    "train"
   ]
  },
  {
   "cell_type": "code",
   "execution_count": 30,
   "id": "da2ee67b",
   "metadata": {},
   "outputs": [
    {
     "name": "stdout",
     "output_type": "stream",
     "text": [
      "                  datetime  season  holiday  workingday  weather   temp  \\\n",
      "0      2011-01-01 00:00:00       1        0           0        1   9.84   \n",
      "1      2011-01-01 01:00:00       1        0           0        1   9.02   \n",
      "2      2011-01-01 02:00:00       1        0           0        1   9.02   \n",
      "3      2011-01-01 03:00:00       1        0           0        1   9.84   \n",
      "4      2011-01-01 04:00:00       1        0           0        1   9.84   \n",
      "...                    ...     ...      ...         ...      ...    ...   \n",
      "10881  2012-12-19 19:00:00       4        0           1        1  15.58   \n",
      "10882  2012-12-19 20:00:00       4        0           1        1  14.76   \n",
      "10883  2012-12-19 21:00:00       4        0           1        1  13.94   \n",
      "10884  2012-12-19 22:00:00       4        0           1        1  13.94   \n",
      "10885  2012-12-19 23:00:00       4        0           1        1  13.12   \n",
      "\n",
      "        atemp  humidity  windspeed  casual  registered  count  year month day  \\\n",
      "0      14.395        81     0.0000       3          13     16  2011    01  01   \n",
      "1      13.635        80     0.0000       8          32     40  2011    01  01   \n",
      "2      13.635        80     0.0000       5          27     32  2011    01  01   \n",
      "3      14.395        75     0.0000       3          10     13  2011    01  01   \n",
      "4      14.395        75     0.0000       0           1      1  2011    01  01   \n",
      "...       ...       ...        ...     ...         ...    ...   ...   ...  ..   \n",
      "10881  19.695        50    26.0027       7         329    336  2012    12  19   \n",
      "10882  17.425        57    15.0013      10         231    241  2012    12  19   \n",
      "10883  15.910        61    15.0013       4         164    168  2012    12  19   \n",
      "10884  17.425        61     6.0032      12         117    129  2012    12  19   \n",
      "10885  16.665        66     8.9981       4          84     88  2012    12  19   \n",
      "\n",
      "      hour min sec  \n",
      "0       00  00  00  \n",
      "1       01  00  00  \n",
      "2       02  00  00  \n",
      "3       03  00  00  \n",
      "4       04  00  00  \n",
      "...    ...  ..  ..  \n",
      "10881   19  00  00  \n",
      "10882   20  00  00  \n",
      "10883   21  00  00  \n",
      "10884   22  00  00  \n",
      "10885   23  00  00  \n",
      "\n",
      "[10886 rows x 18 columns]\n"
     ]
    }
   ],
   "source": [
    "train['year'] = pd.to_datetime(train['datetime']).dt.strftime('%Y')\n",
    "train['month'] = pd.to_datetime(train['datetime']).dt.strftime('%m')\n",
    "train['day'] = pd.to_datetime(train['datetime']).dt.strftime('%d')\n",
    "train['hour'] = pd.to_datetime(train['datetime']).dt.strftime('%H')\n",
    "train['min'] = pd.to_datetime(train['datetime']).dt.strftime('%M')\n",
    "train['sec'] = pd.to_datetime(train['datetime']).dt.strftime('%S')\n",
    "print(train)\n",
    "                     "
   ]
  },
  {
   "cell_type": "markdown",
   "id": "6c75b80c",
   "metadata": {},
   "source": [
    "<h2>(3) year, month, day, hour, minute, second 데이터 개수 시각화하기 </h2>\n",
    "https://datascienceschool.net/01%20python/05.04%20%EC%8B%9C%EB%B3%B8%EC%9D%84%20%EC%82%AC%EC%9A%A9%ED%95%9C%20%EB%8D%B0%EC%9D%B4%ED%84%B0%20%EB%B6%84%ED%8F%AC%20%EC%8B%9C%EA%B0%81%ED%99%94.html"
   ]
  },
  {
   "cell_type": "code",
   "execution_count": 32,
   "id": "55e3d305",
   "metadata": {},
   "outputs": [
    {
     "data": {
      "image/png": "[encoded data removed]",
      "text/plain": [
       "<Figure size 2160x360 with 6 Axes>"
      ]
     },
     "metadata": {
      "needs_background": "light"
     },
     "output_type": "display_data"
    }
   ],
   "source": [
    "import seaborn as sns\n",
    "fig, ax = plt.subplots(nrows=2 ,ncols=3, figsize=(30,5))\n",
    "sns.countplot(x='year', data=train, ax=ax[0][0])\n",
    "sns.countplot(x='month', data=train, ax=ax[0][1])\n",
    "sns.countplot(x='day', data=train, ax=ax[0][2])\n",
    "sns.countplot(x='hour', data=train, ax=ax[1][0])\n",
    "sns.countplot(x='min', data=train, ax=ax[1][1])\n",
    "sns.countplot(x='sec', data=train, ax=ax[1][2])\n",
    "plt.show()\n",
    "#데이터 중 , min과 sec는 필요없다고 보면 된다. (모든 데이터가 0분, 0초)"
   ]
  },
  {
   "cell_type": "markdown",
   "id": "2c6efa39",
   "metadata": {},
   "source": [
    "<h2>(4) X, y 컬럼 선택 및 train/test 데이터 분리 </h2>"
   ]
  },
  {
   "cell_type": "markdown",
   "id": "19027481",
   "metadata": {},
   "source": [
    "X(feature) 에는 어떤 데이터 컬럼을 넣어야 될지 고민해 봅시다 데이터 컬럼을 추가하거나 빼면서 잘 조합하여 데이터를 넣기 바랍니다. 만일 모든 데이터 컬럼(특징)을 넣는다면 오차 값이 말도 안 되게 적게 나올 수도 있습니다. ex) count를 예측하는데 casual,registered 컬럼이 필요할까요?\n",
    "\n",
    "count 값을 맞추고자 하므로, y 변수에 count 컬럼의 데이터 넣기"
   ]
  },
  {
   "cell_type": "code",
   "execution_count": 33,
   "id": "9d554e36",
   "metadata": {},
   "outputs": [
    {
     "data": {
      "text/html": [
       "<div>\n",
       "<style scoped>\n",
       "    .dataframe tbody tr th:only-of-type {\n",
       "        vertical-align: middle;\n",
       "    }\n",
       "\n",
       "    .dataframe tbody tr th {\n",
       "        vertical-align: top;\n",
       "    }\n",
       "\n",
       "    .dataframe thead th {\n",
       "        text-align: right;\n",
       "    }\n",
       "</style>\n",
       "<table border=\"1\" class=\"dataframe\">\n",
       "  <thead>\n",
       "    <tr style=\"text-align: right;\">\n",
       "      <th></th>\n",
       "      <th>holiday</th>\n",
       "      <th>workingday</th>\n",
       "      <th>weather</th>\n",
       "      <th>temp</th>\n",
       "      <th>atemp</th>\n",
       "      <th>humidity</th>\n",
       "      <th>windspeed</th>\n",
       "      <th>year</th>\n",
       "      <th>month</th>\n",
       "      <th>day</th>\n",
       "      <th>hour</th>\n",
       "    </tr>\n",
       "  </thead>\n",
       "  <tbody>\n",
       "    <tr>\n",
       "      <th>0</th>\n",
       "      <td>0</td>\n",
       "      <td>0</td>\n",
       "      <td>1</td>\n",
       "      <td>9.84</td>\n",
       "      <td>14.395</td>\n",
       "      <td>81</td>\n",
       "      <td>0.0000</td>\n",
       "      <td>2011</td>\n",
       "      <td>01</td>\n",
       "      <td>01</td>\n",
       "      <td>00</td>\n",
       "    </tr>\n",
       "    <tr>\n",
       "      <th>1</th>\n",
       "      <td>0</td>\n",
       "      <td>0</td>\n",
       "      <td>1</td>\n",
       "      <td>9.02</td>\n",
       "      <td>13.635</td>\n",
       "      <td>80</td>\n",
       "      <td>0.0000</td>\n",
       "      <td>2011</td>\n",
       "      <td>01</td>\n",
       "      <td>01</td>\n",
       "      <td>01</td>\n",
       "    </tr>\n",
       "    <tr>\n",
       "      <th>2</th>\n",
       "      <td>0</td>\n",
       "      <td>0</td>\n",
       "      <td>1</td>\n",
       "      <td>9.02</td>\n",
       "      <td>13.635</td>\n",
       "      <td>80</td>\n",
       "      <td>0.0000</td>\n",
       "      <td>2011</td>\n",
       "      <td>01</td>\n",
       "      <td>01</td>\n",
       "      <td>02</td>\n",
       "    </tr>\n",
       "    <tr>\n",
       "      <th>3</th>\n",
       "      <td>0</td>\n",
       "      <td>0</td>\n",
       "      <td>1</td>\n",
       "      <td>9.84</td>\n",
       "      <td>14.395</td>\n",
       "      <td>75</td>\n",
       "      <td>0.0000</td>\n",
       "      <td>2011</td>\n",
       "      <td>01</td>\n",
       "      <td>01</td>\n",
       "      <td>03</td>\n",
       "    </tr>\n",
       "    <tr>\n",
       "      <th>4</th>\n",
       "      <td>0</td>\n",
       "      <td>0</td>\n",
       "      <td>1</td>\n",
       "      <td>9.84</td>\n",
       "      <td>14.395</td>\n",
       "      <td>75</td>\n",
       "      <td>0.0000</td>\n",
       "      <td>2011</td>\n",
       "      <td>01</td>\n",
       "      <td>01</td>\n",
       "      <td>04</td>\n",
       "    </tr>\n",
       "    <tr>\n",
       "      <th>...</th>\n",
       "      <td>...</td>\n",
       "      <td>...</td>\n",
       "      <td>...</td>\n",
       "      <td>...</td>\n",
       "      <td>...</td>\n",
       "      <td>...</td>\n",
       "      <td>...</td>\n",
       "      <td>...</td>\n",
       "      <td>...</td>\n",
       "      <td>...</td>\n",
       "      <td>...</td>\n",
       "    </tr>\n",
       "    <tr>\n",
       "      <th>10881</th>\n",
       "      <td>0</td>\n",
       "      <td>1</td>\n",
       "      <td>1</td>\n",
       "      <td>15.58</td>\n",
       "      <td>19.695</td>\n",
       "      <td>50</td>\n",
       "      <td>26.0027</td>\n",
       "      <td>2012</td>\n",
       "      <td>12</td>\n",
       "      <td>19</td>\n",
       "      <td>19</td>\n",
       "    </tr>\n",
       "    <tr>\n",
       "      <th>10882</th>\n",
       "      <td>0</td>\n",
       "      <td>1</td>\n",
       "      <td>1</td>\n",
       "      <td>14.76</td>\n",
       "      <td>17.425</td>\n",
       "      <td>57</td>\n",
       "      <td>15.0013</td>\n",
       "      <td>2012</td>\n",
       "      <td>12</td>\n",
       "      <td>19</td>\n",
       "      <td>20</td>\n",
       "    </tr>\n",
       "    <tr>\n",
       "      <th>10883</th>\n",
       "      <td>0</td>\n",
       "      <td>1</td>\n",
       "      <td>1</td>\n",
       "      <td>13.94</td>\n",
       "      <td>15.910</td>\n",
       "      <td>61</td>\n",
       "      <td>15.0013</td>\n",
       "      <td>2012</td>\n",
       "      <td>12</td>\n",
       "      <td>19</td>\n",
       "      <td>21</td>\n",
       "    </tr>\n",
       "    <tr>\n",
       "      <th>10884</th>\n",
       "      <td>0</td>\n",
       "      <td>1</td>\n",
       "      <td>1</td>\n",
       "      <td>13.94</td>\n",
       "      <td>17.425</td>\n",
       "      <td>61</td>\n",
       "      <td>6.0032</td>\n",
       "      <td>2012</td>\n",
       "      <td>12</td>\n",
       "      <td>19</td>\n",
       "      <td>22</td>\n",
       "    </tr>\n",
       "    <tr>\n",
       "      <th>10885</th>\n",
       "      <td>0</td>\n",
       "      <td>1</td>\n",
       "      <td>1</td>\n",
       "      <td>13.12</td>\n",
       "      <td>16.665</td>\n",
       "      <td>66</td>\n",
       "      <td>8.9981</td>\n",
       "      <td>2012</td>\n",
       "      <td>12</td>\n",
       "      <td>19</td>\n",
       "      <td>23</td>\n",
       "    </tr>\n",
       "  </tbody>\n",
       "</table>\n",
       "<p>10886 rows × 11 columns</p>\n",
       "</div>"
      ],
      "text/plain": [
       "       holiday  workingday  weather   temp   atemp  humidity  windspeed  year  \\\n",
       "0            0           0        1   9.84  14.395        81     0.0000  2011   \n",
       "1            0           0        1   9.02  13.635        80     0.0000  2011   \n",
       "2            0           0        1   9.02  13.635        80     0.0000  2011   \n",
       "3            0           0        1   9.84  14.395        75     0.0000  2011   \n",
       "4            0           0        1   9.84  14.395        75     0.0000  2011   \n",
       "...        ...         ...      ...    ...     ...       ...        ...   ...   \n",
       "10881        0           1        1  15.58  19.695        50    26.0027  2012   \n",
       "10882        0           1        1  14.76  17.425        57    15.0013  2012   \n",
       "10883        0           1        1  13.94  15.910        61    15.0013  2012   \n",
       "10884        0           1        1  13.94  17.425        61     6.0032  2012   \n",
       "10885        0           1        1  13.12  16.665        66     8.9981  2012   \n",
       "\n",
       "      month day hour  \n",
       "0        01  01   00  \n",
       "1        01  01   01  \n",
       "2        01  01   02  \n",
       "3        01  01   03  \n",
       "4        01  01   04  \n",
       "...     ...  ..  ...  \n",
       "10881    12  19   19  \n",
       "10882    12  19   20  \n",
       "10883    12  19   21  \n",
       "10884    12  19   22  \n",
       "10885    12  19   23  \n",
       "\n",
       "[10886 rows x 11 columns]"
      ]
     },
     "execution_count": 33,
     "metadata": {},
     "output_type": "execute_result"
    }
   ],
   "source": [
    "train\n",
    "df = pd.DataFrame(train)\n",
    "df = df.drop(['datetime','season', 'casual', 'registered','count','min','sec'],axis=1)\n",
    "df"
   ]
  },
  {
   "cell_type": "code",
   "execution_count": 34,
   "id": "422f647f",
   "metadata": {},
   "outputs": [],
   "source": [
    "#x,y컬럼 선택은 일단 내용이 월요일 오후 3시다. \n",
    "#weather \n",
    "#- 1: Clear, Few clouds, Partly cloudy, Partly cloudy\n",
    "#2: Mist + Cloudy, Mist + Broken clouds, Mist + Few clouds, Mist\n",
    "#3: Light Snow, Light Rain + Thunderstorm + Scattered clouds, Light Rain + Scattered clouds\n",
    "#4: Heavy Rain + Ice Pallets + Thunderstorm + Mist, Snow + Fog \n",
    "from sklearn.model_selection import train_test_split\n",
    "#날씨 좋은 월요일 오후 세 시, 자전거 타는 사람은 몇 명?\n",
    "#datetime - hourly date + timestamp  \n",
    "#holiday - whether the day is considered a holiday\n",
    "#workingday - whether the day is neither a weekend nor holiday\n",
    "#weather - 1: Clear, Few clouds, Partly cloudy, Partly cloudy\n",
    "#2: Mist + Cloudy, Mist + Broken clouds, Mist + Few clouds, Mist\n",
    "#3: Light Snow, Light Rain + Thunderstorm + Scattered clouds, Light Rain + Scattered clouds\n",
    "#4: Heavy Rain + Ice Pallets + Thunderstorm + Mist, Snow + Fog \n",
    "#temp - temperature in Celsius\n",
    "#humidity - relative humidity\n",
    "#windspeed - wind speed\n",
    "#count - number of total rentals 자전거\n",
    "X = df.values\n",
    "y = train['count']\n",
    "\n",
    "X_train, X_test, y_train, y_test = train_test_split(X,y, train_size = 0.2 , random_state = 5)\n",
    "\n"
   ]
  },
  {
   "cell_type": "markdown",
   "id": "da3fdefc",
   "metadata": {},
   "source": [
    "<h2>(5) LinearRegression 모델 학습</h2>"
   ]
  },
  {
   "cell_type": "code",
   "execution_count": 35,
   "id": "44ba738c",
   "metadata": {},
   "outputs": [
    {
     "name": "stdout",
     "output_type": "stream",
     "text": [
      "(2177, 11)\n",
      "(2177,)\n"
     ]
    }
   ],
   "source": [
    "from sklearn.linear_model import LinearRegression\n",
    "model = LinearRegression()\n",
    "model.fit(X_train, y_train)\n",
    "print(X_train.shape)\n",
    "print(y_train.shape)"
   ]
  },
  {
   "cell_type": "markdown",
   "id": "4af36ee7",
   "metadata": {},
   "source": [
    "<h2>(6) 학습된 모델로 X_test에 대한 예측값 출력 및 손실함수값 계산 </h2>"
   ]
  },
  {
   "cell_type": "code",
   "execution_count": 36,
   "id": "bd6b4a4e",
   "metadata": {},
   "outputs": [
    {
     "name": "stdout",
     "output_type": "stream",
     "text": [
      "20021.6400905822 141.49784482663404\n"
     ]
    }
   ],
   "source": [
    "y_pred = model.predict(X_test)\n",
    "from sklearn.metrics import mean_squared_error\n",
    "mse = mean_squared_error(y_test, y_pred)\n",
    "rmse = mse**0.5\n",
    "print(mse, rmse)"
   ]
  },
  {
   "cell_type": "markdown",
   "id": "a566d95a",
   "metadata": {},
   "source": [
    "<h2>(7) x축은 temp 또는 humidity로, y축은 count로 예측 결과 시각화하기</h2>"
   ]
  },
  {
   "cell_type": "code",
   "execution_count": 37,
   "id": "009279ea",
   "metadata": {},
   "outputs": [
    {
     "name": "stdout",
     "output_type": "stream",
     "text": [
      "(10886, 1)\n",
      "(10886, 1)\n"
     ]
    },
    {
     "data": {
      "image/png": "[encoded data removed]",
      "text/plain": [
       "<Figure size 432x288 with 1 Axes>"
      ]
     },
     "metadata": {
      "needs_background": "light"
     },
     "output_type": "display_data"
    },
    {
     "name": "stdout",
     "output_type": "stream",
     "text": [
      "(10886, 1)\n",
      "(10886, 1)\n"
     ]
    },
    {
     "data": {
      "image/png": "[encoded data removed]",
      "text/plain": [
       "<Figure size 432x288 with 1 Axes>"
      ]
     },
     "metadata": {
      "needs_background": "light"
     },
     "output_type": "display_data"
    }
   ],
   "source": [
    "x_a = df['temp']\n",
    "y_a = pd.DataFrame(train['count'])\n",
    "x_a = x_a.values.reshape(-1,1)\n",
    "\n",
    "X_train, X_test, y_train, y_test = train_test_split(x_a,y_a, train_size = 0.2 , random_state = 5)\n",
    "\n",
    "model.fit(X_train, y_train)\n",
    "y_pred = model.predict(X_test)\n",
    "print(x_a.shape)\n",
    "print(y_a.shape)\n",
    "#model.predict(x_a)\n",
    "\n",
    "\n",
    "#y_pred_a = model.predict(x_a)\n",
    "plt.scatter(X_test,y_test)\n",
    "plt.plot(X_test,y_pred,color='r')\n",
    "plt.show()\n",
    "\n",
    "x_a = df['humidity']\n",
    "y_a = pd.DataFrame(train['count'])\n",
    "x_a = x_a.values.reshape(-1,1)\n",
    "\n",
    "X_train, X_test, y_train, y_test = train_test_split(x_a,y_a, train_size = 0.2 , random_state = 5)\n",
    "\n",
    "model.fit(X_train, y_train)\n",
    "y_pred = model.predict(X_test)\n",
    "print(x_a.shape)\n",
    "print(y_a.shape)\n",
    "#model.predict(x_a)\n",
    "\n",
    "\n",
    "#y_pred_a = model.predict(x_a)\n",
    "plt.scatter(X_test,y_test)\n",
    "plt.plot(X_test,y_pred,color='r')\n",
    "plt.show()"
   ]
  },
  {
   "cell_type": "markdown",
   "id": "c146ef55",
   "metadata": {},
   "source": [
    "<h2>회고</h2>\n",
    "힘들었다\n"
   ]
  },
  {
   "cell_type": "code",
   "execution_count": null,
   "id": "3d410e8f",
   "metadata": {},
   "outputs": [],
   "source": []
  },
  {
   "cell_type": "code",
   "execution_count": null,
   "id": "106884c8",
   "metadata": {},
   "outputs": [],
   "source": []
  }
 ],
 "metadata": {
  "kernelspec": {
   "display_name": "Python 3 (ipykernel)",
   "language": "python",
   "name": "python3"
  },
  "language_info": {
   "codemirror_mode": {
    "name": "ipython",
    "version": 3
   },
   "file_extension": ".py",
   "mimetype": "text/x-python",
   "name": "python",
   "nbconvert_exporter": "python",
   "pygments_lexer": "ipython3",
   "version": "3.9.7"
  }
 },
 "nbformat": 4,
 "nbformat_minor": 5
}
