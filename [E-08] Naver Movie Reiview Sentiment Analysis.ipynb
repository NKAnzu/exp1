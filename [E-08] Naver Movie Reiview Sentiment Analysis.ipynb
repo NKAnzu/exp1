{
 "cells": [
  {
   "cell_type": "markdown",
   "id": "b8423628",
   "metadata": {},
   "source": [
    "# 8-11. 프로젝트 : 네이버 영화리뷰 감성분석 도전하기"
   ]
  },
  {
   "cell_type": "markdown",
   "id": "e53b722b",
   "metadata": {},
   "source": [
    "라이브러리 버전을 확인해 봅니다\n",
    "\n",
    "사용할 라이브러리 버전을 둘러봅시다."
   ]
  },
  {
   "cell_type": "code",
   "execution_count": 1,
   "id": "6b334d5b",
   "metadata": {},
   "outputs": [
    {
     "name": "stdout",
     "output_type": "stream",
     "text": [
      "1.3.3\n",
      "0.5.2\n",
      "4.1.2\n"
     ]
    }
   ],
   "source": [
    "import pandas\n",
    "import konlpy\n",
    "import gensim\n",
    "import tensorflow as tf\n",
    "import os \n",
    "print(pandas.__version__)\n",
    "print(konlpy.__version__)\n",
    "print(gensim.__version__)"
   ]
  },
  {
   "cell_type": "markdown",
   "id": "7f3eaae5",
   "metadata": {},
   "source": [
    "# 1) 데이터 준비와 확인"
   ]
  },
  {
   "cell_type": "code",
   "execution_count": 2,
   "id": "6a9f6dab",
   "metadata": {},
   "outputs": [
    {
     "data": {
      "text/html": [
       "<div>\n",
       "<style scoped>\n",
       "    .dataframe tbody tr th:only-of-type {\n",
       "        vertical-align: middle;\n",
       "    }\n",
       "\n",
       "    .dataframe tbody tr th {\n",
       "        vertical-align: top;\n",
       "    }\n",
       "\n",
       "    .dataframe thead th {\n",
       "        text-align: right;\n",
       "    }\n",
       "</style>\n",
       "<table border=\"1\" class=\"dataframe\">\n",
       "  <thead>\n",
       "    <tr style=\"text-align: right;\">\n",
       "      <th></th>\n",
       "      <th>id</th>\n",
       "      <th>document</th>\n",
       "      <th>label</th>\n",
       "    </tr>\n",
       "  </thead>\n",
       "  <tbody>\n",
       "    <tr>\n",
       "      <th>0</th>\n",
       "      <td>9976970</td>\n",
       "      <td>아 더빙.. 진짜 짜증나네요 목소리</td>\n",
       "      <td>0</td>\n",
       "    </tr>\n",
       "    <tr>\n",
       "      <th>1</th>\n",
       "      <td>3819312</td>\n",
       "      <td>흠...포스터보고 초딩영화줄....오버연기조차 가볍지 않구나</td>\n",
       "      <td>1</td>\n",
       "    </tr>\n",
       "    <tr>\n",
       "      <th>2</th>\n",
       "      <td>10265843</td>\n",
       "      <td>너무재밓었다그래서보는것을추천한다</td>\n",
       "      <td>0</td>\n",
       "    </tr>\n",
       "    <tr>\n",
       "      <th>3</th>\n",
       "      <td>9045019</td>\n",
       "      <td>교도소 이야기구먼 ..솔직히 재미는 없다..평점 조정</td>\n",
       "      <td>0</td>\n",
       "    </tr>\n",
       "    <tr>\n",
       "      <th>4</th>\n",
       "      <td>6483659</td>\n",
       "      <td>사이몬페그의 익살스런 연기가 돋보였던 영화!스파이더맨에서 늙어보이기만 했던 커스틴 ...</td>\n",
       "      <td>1</td>\n",
       "    </tr>\n",
       "  </tbody>\n",
       "</table>\n",
       "</div>"
      ],
      "text/plain": [
       "         id                                           document  label\n",
       "0   9976970                                아 더빙.. 진짜 짜증나네요 목소리      0\n",
       "1   3819312                  흠...포스터보고 초딩영화줄....오버연기조차 가볍지 않구나      1\n",
       "2  10265843                                  너무재밓었다그래서보는것을추천한다      0\n",
       "3   9045019                      교도소 이야기구먼 ..솔직히 재미는 없다..평점 조정      0\n",
       "4   6483659  사이몬페그의 익살스런 연기가 돋보였던 영화!스파이더맨에서 늙어보이기만 했던 커스틴 ...      1"
      ]
     },
     "execution_count": 2,
     "metadata": {},
     "output_type": "execute_result"
    }
   ],
   "source": [
    "import pandas as pd\n",
    "\n",
    "# 데이터를 읽어봅시다. \n",
    "train_data = pd.read_table('~/aiffel/sentiment_classification/data/ratings_train.txt')\n",
    "test_data = pd.read_table('~/aiffel/sentiment_classification/data/ratings_test.txt')\n",
    "\n",
    "train_data.head()"
   ]
  },
  {
   "cell_type": "markdown",
   "id": "25f628df",
   "metadata": {},
   "source": [
    "# 2) 데이터로더 구성"
   ]
  },
  {
   "cell_type": "markdown",
   "id": "0a500f49",
   "metadata": {},
   "source": [
    "실습 때 다루었던 IMDB 데이터셋은 텍스트를 가공하여 imdb.data_loader() 메서드를 호출하면 숫자 인덱스로 변환된 텍스트와 word_to_index 딕셔너리까지 친절하게 제공합니다. \n",
    "\n",
    "그러나 이번에 다루게 될 nsmc 데이터셋은 전혀 가공되지 않은 텍스트 파일로 이루어져 있습니다. \n",
    "\n",
    "이것을 읽어서 imdb.data_loader()와 동일하게 동작하는 자신만의 data_loader를 만들어 보는 것으로 시작합니다. \n",
    "\n",
    "data_loader 안에서는 다음을 수행해야 합니다."
   ]
  },
  {
   "cell_type": "markdown",
   "id": "cd5a3ad2",
   "metadata": {},
   "source": [
    "- 데이터의 중복 제거\n",
    "- NaN 결측치 제거\n",
    "- 한국어 토크나이저로 토큰화 (tokenize)\n",
    "- 불용어(Stopwords) 제거 (\n",
    "- 사전word_to_index 구성 (단어를 index로)\n",
    "- 텍스트 스트링을 사전 인덱스 스트링으로 변환 (embedding)\n",
    "- X_train, y_train, X_test, y_test, word_to_index 리턴"
   ]
  },
  {
   "cell_type": "code",
   "execution_count": 3,
   "id": "f7715770",
   "metadata": {},
   "outputs": [
    {
     "data": {
      "text/plain": [
       "Int64Index([25857, 55737, 110014, 126782, 140721], dtype='int64')"
      ]
     },
     "execution_count": 3,
     "metadata": {},
     "output_type": "execute_result"
    }
   ],
   "source": [
    "train_data[train_data['document'].isna()].index"
   ]
  },
  {
   "cell_type": "code",
   "execution_count": 4,
   "id": "0db01712",
   "metadata": {},
   "outputs": [],
   "source": [
    "train_data = train_data.dropna()"
   ]
  },
  {
   "cell_type": "markdown",
   "id": "a39d3d36",
   "metadata": {},
   "source": [
    "결측값 제거"
   ]
  },
  {
   "cell_type": "code",
   "execution_count": 5,
   "id": "23e28201",
   "metadata": {},
   "outputs": [
    {
     "data": {
      "text/html": [
       "<div>\n",
       "<style scoped>\n",
       "    .dataframe tbody tr th:only-of-type {\n",
       "        vertical-align: middle;\n",
       "    }\n",
       "\n",
       "    .dataframe tbody tr th {\n",
       "        vertical-align: top;\n",
       "    }\n",
       "\n",
       "    .dataframe thead th {\n",
       "        text-align: right;\n",
       "    }\n",
       "</style>\n",
       "<table border=\"1\" class=\"dataframe\">\n",
       "  <thead>\n",
       "    <tr style=\"text-align: right;\">\n",
       "      <th></th>\n",
       "      <th>id</th>\n",
       "      <th>document</th>\n",
       "      <th>label</th>\n",
       "    </tr>\n",
       "  </thead>\n",
       "  <tbody>\n",
       "  </tbody>\n",
       "</table>\n",
       "</div>"
      ],
      "text/plain": [
       "Empty DataFrame\n",
       "Columns: [id, document, label]\n",
       "Index: []"
      ]
     },
     "execution_count": 5,
     "metadata": {},
     "output_type": "execute_result"
    }
   ],
   "source": [
    "train_data[train_data['label'].isna()]"
   ]
  },
  {
   "cell_type": "code",
   "execution_count": 6,
   "id": "9a149caa",
   "metadata": {},
   "outputs": [],
   "source": [
    "train_data = train_data.drop_duplicates(['document','label'])"
   ]
  },
  {
   "cell_type": "markdown",
   "id": "5598dfb3",
   "metadata": {},
   "source": [
    "train_data의 중복값과 결측치를 제거한다."
   ]
  },
  {
   "cell_type": "code",
   "execution_count": 7,
   "id": "5d3b1cf4",
   "metadata": {},
   "outputs": [
    {
     "data": {
      "text/html": [
       "<div>\n",
       "<style scoped>\n",
       "    .dataframe tbody tr th:only-of-type {\n",
       "        vertical-align: middle;\n",
       "    }\n",
       "\n",
       "    .dataframe tbody tr th {\n",
       "        vertical-align: top;\n",
       "    }\n",
       "\n",
       "    .dataframe thead th {\n",
       "        text-align: right;\n",
       "    }\n",
       "</style>\n",
       "<table border=\"1\" class=\"dataframe\">\n",
       "  <thead>\n",
       "    <tr style=\"text-align: right;\">\n",
       "      <th></th>\n",
       "      <th>id</th>\n",
       "      <th>document</th>\n",
       "      <th>label</th>\n",
       "    </tr>\n",
       "  </thead>\n",
       "  <tbody>\n",
       "    <tr>\n",
       "      <th>0</th>\n",
       "      <td>9976970</td>\n",
       "      <td>아 더빙.. 진짜 짜증나네요 목소리</td>\n",
       "      <td>0</td>\n",
       "    </tr>\n",
       "    <tr>\n",
       "      <th>1</th>\n",
       "      <td>3819312</td>\n",
       "      <td>흠...포스터보고 초딩영화줄....오버연기조차 가볍지 않구나</td>\n",
       "      <td>1</td>\n",
       "    </tr>\n",
       "    <tr>\n",
       "      <th>2</th>\n",
       "      <td>10265843</td>\n",
       "      <td>너무재밓었다그래서보는것을추천한다</td>\n",
       "      <td>0</td>\n",
       "    </tr>\n",
       "    <tr>\n",
       "      <th>3</th>\n",
       "      <td>9045019</td>\n",
       "      <td>교도소 이야기구먼 ..솔직히 재미는 없다..평점 조정</td>\n",
       "      <td>0</td>\n",
       "    </tr>\n",
       "    <tr>\n",
       "      <th>4</th>\n",
       "      <td>6483659</td>\n",
       "      <td>사이몬페그의 익살스런 연기가 돋보였던 영화!스파이더맨에서 늙어보이기만 했던 커스틴 ...</td>\n",
       "      <td>1</td>\n",
       "    </tr>\n",
       "    <tr>\n",
       "      <th>...</th>\n",
       "      <td>...</td>\n",
       "      <td>...</td>\n",
       "      <td>...</td>\n",
       "    </tr>\n",
       "    <tr>\n",
       "      <th>149995</th>\n",
       "      <td>6222902</td>\n",
       "      <td>인간이 문제지.. 소는 뭔죄인가..</td>\n",
       "      <td>0</td>\n",
       "    </tr>\n",
       "    <tr>\n",
       "      <th>149996</th>\n",
       "      <td>8549745</td>\n",
       "      <td>평점이 너무 낮아서...</td>\n",
       "      <td>1</td>\n",
       "    </tr>\n",
       "    <tr>\n",
       "      <th>149997</th>\n",
       "      <td>9311800</td>\n",
       "      <td>이게 뭐요? 한국인은 거들먹거리고 필리핀 혼혈은 착하다?</td>\n",
       "      <td>0</td>\n",
       "    </tr>\n",
       "    <tr>\n",
       "      <th>149998</th>\n",
       "      <td>2376369</td>\n",
       "      <td>청춘 영화의 최고봉.방황과 우울했던 날들의 자화상</td>\n",
       "      <td>1</td>\n",
       "    </tr>\n",
       "    <tr>\n",
       "      <th>149999</th>\n",
       "      <td>9619869</td>\n",
       "      <td>한국 영화 최초로 수간하는 내용이 담긴 영화</td>\n",
       "      <td>0</td>\n",
       "    </tr>\n",
       "  </tbody>\n",
       "</table>\n",
       "<p>146339 rows × 3 columns</p>\n",
       "</div>"
      ],
      "text/plain": [
       "              id                                           document  label\n",
       "0        9976970                                아 더빙.. 진짜 짜증나네요 목소리      0\n",
       "1        3819312                  흠...포스터보고 초딩영화줄....오버연기조차 가볍지 않구나      1\n",
       "2       10265843                                  너무재밓었다그래서보는것을추천한다      0\n",
       "3        9045019                      교도소 이야기구먼 ..솔직히 재미는 없다..평점 조정      0\n",
       "4        6483659  사이몬페그의 익살스런 연기가 돋보였던 영화!스파이더맨에서 늙어보이기만 했던 커스틴 ...      1\n",
       "...          ...                                                ...    ...\n",
       "149995   6222902                                인간이 문제지.. 소는 뭔죄인가..      0\n",
       "149996   8549745                                      평점이 너무 낮아서...      1\n",
       "149997   9311800                    이게 뭐요? 한국인은 거들먹거리고 필리핀 혼혈은 착하다?      0\n",
       "149998   2376369                        청춘 영화의 최고봉.방황과 우울했던 날들의 자화상      1\n",
       "149999   9619869                           한국 영화 최초로 수간하는 내용이 담긴 영화      0\n",
       "\n",
       "[146339 rows x 3 columns]"
      ]
     },
     "execution_count": 7,
     "metadata": {},
     "output_type": "execute_result"
    }
   ],
   "source": [
    "train_data"
   ]
  },
  {
   "cell_type": "code",
   "execution_count": 8,
   "id": "f64c87f3",
   "metadata": {},
   "outputs": [],
   "source": [
    "from konlpy.tag import Mecab\n",
    "import numpy as np\n",
    "from collections import Counter\n",
    "\n",
    "tokenizer = Mecab() #한국어 토크나이저\n",
    "stopwords = ['의','가','이','은','들','는','좀','잘','걍','과','도','를','으로','자','에','와','한','하다'] #불용어 stopwords\n",
    "\n",
    "#사전word_to_index 구성 (단어를 index로)\n",
    "#텍스트 스트링을 사전 인덱스 스트링으로 변환 (embedding)\n",
    "#X_train, y_train, X_test, y_test, word_to_index 리턴\n",
    "\n",
    "def load_data(train_data, test_data, num_words=10000):\n",
    "    train_data.drop_duplicates(subset=['document'], inplace=True)\n",
    "    train_data = train_data.dropna(how = 'any') \n",
    "    test_data.drop_duplicates(subset=['document'], inplace=True)\n",
    "    test_data = test_data.dropna(how = 'any') \n",
    "    \n",
    "    X_train=[]\n",
    "    for sentence in train_data['document']:\n",
    "        temp_X = tokenizer.morphs(sentence) # temp_X에는 문장각 내용 토큰화\n",
    "        temp_X = [word for word in temp_X if not word in stopwords]\n",
    "        X_train.append(temp_X)\n",
    "        \n",
    "    X_test=[]\n",
    "    for sentence in test_data['document']:\n",
    "        temp_X = tokenizer.morphs(sentence) # 토큰화\n",
    "        temp_X = [word for word in temp_X if not word in stopwords] # 불용어 제거\n",
    "        X_test.append(temp_X)\n",
    "        \n",
    "    words = np.concatenate(X_train).tolist()\n",
    "    counter = Counter(words)\n",
    "    \n",
    "    counter= counter.most_common(10000-4)\n",
    "    vocab=['', '', '', ''] + [key for key, _ in counter]\n",
    "    word_to_index = {word:index for index, word in enumerate(vocab)}\n",
    "    \n",
    "    def wordlist_to_indexlist(wordlist):\n",
    "        return [word_to_index[word] if word in word_to_index else word_to_index['']for word in wordlist]\n",
    "    \n",
    "    X_train = list(map(wordlist_to_indexlist, X_train))\n",
    "    X_test = list(map(wordlist_to_indexlist, X_test))\n",
    "    \n",
    "    return X_train, np.array(list(train_data['label'])), X_test, np.array(list(test_data['label'])),word_to_index\n",
    "\n",
    "X_train, y_train, X_test, y_test, word_to_index = load_data(train_data, test_data)"
   ]
  },
  {
   "cell_type": "code",
   "execution_count": 9,
   "id": "3518e192",
   "metadata": {},
   "outputs": [],
   "source": [
    "index_to_word = {index:word for word, index in word_to_index.items()}"
   ]
  },
  {
   "cell_type": "markdown",
   "id": "44b41e0f",
   "metadata": {},
   "source": [
    "X_train, X_test는 각 단어의 토큰 index가 저장된다.\n",
    "\n",
    "y_train, y_test는 라벨값이다.\n"
   ]
  },
  {
   "cell_type": "code",
   "execution_count": 10,
   "id": "a223a4f1",
   "metadata": {},
   "outputs": [],
   "source": [
    "# 문장 1개를 활용할 딕셔너리와 함께 주면, 단어 인덱스 리스트 벡터로 변환해 주는 함수입니다. \n",
    "# 단, 모든 문장은 <BOS>로 시작하는 것으로 합니다. \n",
    "def get_encoded_sentence(sentence, word_to_index):\n",
    "    return [word_to_index['<BOS>']]+[word_to_index[word] if word in word_to_index else word_to_index['<UNK>'] for word in sentence.split()]\n",
    "\n",
    "# 여러 개의 문장 리스트를 한꺼번에 단어 인덱스 리스트 벡터로 encode해 주는 함수입니다. \n",
    "def get_encoded_sentences(sentences, word_to_index):\n",
    "    return [get_encoded_sentence(sentence, word_to_index) for sentence in sentences]\n",
    "\n",
    "# 숫자 벡터로 encode된 문장을 원래대로 decode하는 함수입니다. \n",
    "def get_decoded_sentence(encoded_sentence, index_to_word):\n",
    "    return ' '.join(index_to_word[index] if index in index_to_word else '<UNK>' for index in encoded_sentence[1:])  #[1:]를 통해 <BOS>를 제외\n",
    "\n",
    "# 여러 개의 숫자 벡터로 encode된 문장을 한꺼번에 원래대로 decode하는 함수입니다. \n",
    "def get_decoded_sentences(encoded_sentences, index_to_word):\n",
    "    return [get_decoded_sentence(encoded_sentence, index_to_word) for encoded_sentence in encoded_sentences]"
   ]
  },
  {
   "cell_type": "markdown",
   "id": "ce7ae88e",
   "metadata": {},
   "source": [
    "# 3) 모델 구성을 위한 데이터 분석 및 가공\n",
    "\n",
    "데이터셋 내 문장 길이 분포\n",
    "\n",
    "적절한 최대 문장 길이 지정\n",
    "\n",
    "keras.preprocessing.sequence.pad_sequences 을 활용한 패딩 추가"
   ]
  },
  {
   "cell_type": "markdown",
   "id": "9d71d78e",
   "metadata": {},
   "source": [
    "num_tokens에 각 문장에 대해서 단어 갯수를 구한다. 그거의 np.array를 놓음 즉 문장길이 지정을 위해서 배열로 놓는다"
   ]
  },
  {
   "cell_type": "code",
   "execution_count": 11,
   "id": "bdd77948",
   "metadata": {},
   "outputs": [
    {
     "name": "stdout",
     "output_type": "stream",
     "text": [
      "문장길이 평균 :  15.96940191154864\n",
      "문장길이 최대 :  116\n",
      "문장길이 표준편차 :  12.843571191092\n",
      "pad_sequences maxlen :  41\n",
      "전체 문장의 0.9342988343341575%가 maxlen 설정값 이내에 포함됩니다.\n"
     ]
    }
   ],
   "source": [
    "total_data_text = list(X_train) + list(X_test)\n",
    "num_tokens=[len(tokens) for tokens in total_data_text]\n",
    "num_tokens= np.array(num_tokens)\n",
    "\n",
    "print('문장길이 평균 : ', np.mean(num_tokens))\n",
    "print('문장길이 최대 : ', np.max(num_tokens))\n",
    "print('문장길이 표준편차 : ', np.std(num_tokens))\n",
    "\n",
    "max_tokens = np.mean(num_tokens) + 2 * np.std(num_tokens)\n",
    "maxlen = int(max_tokens)\n",
    "print('pad_sequences maxlen : ', maxlen)\n",
    "print('전체 문장의 {}%가 maxlen 설정값 이내에 포함됩니다.'.format(np.sum(num_tokens < max_tokens) / len(num_tokens)))"
   ]
  },
  {
   "cell_type": "code",
   "execution_count": 12,
   "id": "8d30e8c2",
   "metadata": {},
   "outputs": [
    {
     "name": "stdout",
     "output_type": "stream",
     "text": [
      "(146182, 41)\n"
     ]
    }
   ],
   "source": [
    "X_train = tf.keras.preprocessing.sequence.pad_sequences(X_train,\n",
    "                                                        value=word_to_index[''],\n",
    "                                                        padding='pre', # 혹은 'pre'\n",
    "                                                        maxlen=maxlen)\n",
    "\n",
    "X_test = tf.keras.preprocessing.sequence.pad_sequences(X_test,\n",
    "                                                       value=word_to_index[''],\n",
    "                                                       padding='pre', # 혹은 'pre'\n",
    "                                                       maxlen=maxlen)\n",
    "\n",
    "print(X_train.shape)"
   ]
  },
  {
   "cell_type": "markdown",
   "id": "b1c6581e",
   "metadata": {},
   "source": [
    "# 4) 모델 구성 및 validation set 구성\n",
    "모델은 3가지 이상 다양하게 구성하여 실험해 보세요."
   ]
  },
  {
   "cell_type": "code",
   "execution_count": 13,
   "id": "c347ebc9",
   "metadata": {},
   "outputs": [
    {
     "name": "stdout",
     "output_type": "stream",
     "text": [
      "Model: \"sequential\"\n",
      "_________________________________________________________________\n",
      "Layer (type)                 Output Shape              Param #   \n",
      "=================================================================\n",
      "embedding (Embedding)        (None, None, 16)          160000    \n",
      "_________________________________________________________________\n",
      "lstm (LSTM)                  (None, 8)                 800       \n",
      "_________________________________________________________________\n",
      "dense (Dense)                (None, 8)                 72        \n",
      "_________________________________________________________________\n",
      "dense_1 (Dense)              (None, 1)                 9         \n",
      "=================================================================\n",
      "Total params: 160,881\n",
      "Trainable params: 160,881\n",
      "Non-trainable params: 0\n",
      "_________________________________________________________________\n"
     ]
    }
   ],
   "source": [
    "# 8-9\n",
    "vocab_size = 10000    # 어휘 사전의 크기입니다(10,000개의 단어)\n",
    "word_vector_dim = 16  # 워드 벡터의 차원 수 (변경 가능한 하이퍼파라미터)\n",
    "\n",
    "# model 설계 - 딥러닝 모델 코드를 직접 작성해 주세요.\n",
    "model = tf.keras.Sequential()\n",
    "model.add(tf.keras.layers.Embedding(vocab_size, word_vector_dim, input_shape=(None,)))\n",
    "model.add(tf.keras.layers.LSTM(8)) \n",
    "model.add(tf.keras.layers.Dense(8, activation='relu'))\n",
    "model.add(tf.keras.layers.Dense(1, activation='sigmoid')) # 최종 출력은 긍정/부정을 나타내는 dim입니다.\n",
    "\n",
    "model.summary()"
   ]
  },
  {
   "cell_type": "markdown",
   "id": "257bfe19",
   "metadata": {},
   "source": [
    "# 5) 모델 훈련 개시\n"
   ]
  },
  {
   "cell_type": "code",
   "execution_count": 14,
   "id": "2a239f09",
   "metadata": {},
   "outputs": [],
   "source": [
    "#validation 20000개\n",
    "X_val = X_train[-20000:]\n",
    "y_val = y_train[-20000:]\n",
    "\n",
    "#validation set을 제외한 나머지 15000건\n",
    "partial_X_train = X_train[:-20000]\n",
    "partial_y_train = y_train[:-20000]"
   ]
  },
  {
   "cell_type": "code",
   "execution_count": 15,
   "id": "37d8fd1f",
   "metadata": {},
   "outputs": [
    {
     "name": "stdout",
     "output_type": "stream",
     "text": [
      "Epoch 1/20\n",
      "247/247 [==============================] - 5s 7ms/step - loss: 0.5097 - accuracy: 0.7607 - val_loss: 0.3773 - val_accuracy: 0.8391\n",
      "Epoch 2/20\n",
      "247/247 [==============================] - 1s 6ms/step - loss: 0.3449 - accuracy: 0.8553 - val_loss: 0.3540 - val_accuracy: 0.8468\n",
      "Epoch 3/20\n",
      "247/247 [==============================] - 1s 6ms/step - loss: 0.3207 - accuracy: 0.8670 - val_loss: 0.3514 - val_accuracy: 0.8476\n",
      "Epoch 4/20\n",
      "247/247 [==============================] - 1s 6ms/step - loss: 0.3095 - accuracy: 0.8724 - val_loss: 0.3507 - val_accuracy: 0.8494\n",
      "Epoch 5/20\n",
      "247/247 [==============================] - 1s 6ms/step - loss: 0.3002 - accuracy: 0.8760 - val_loss: 0.3594 - val_accuracy: 0.8438\n",
      "Epoch 6/20\n",
      "247/247 [==============================] - 1s 6ms/step - loss: 0.2910 - accuracy: 0.8805 - val_loss: 0.3592 - val_accuracy: 0.8423\n",
      "Epoch 7/20\n",
      "247/247 [==============================] - 1s 6ms/step - loss: 0.2824 - accuracy: 0.8850 - val_loss: 0.3557 - val_accuracy: 0.8481\n",
      "Epoch 8/20\n",
      "247/247 [==============================] - 1s 6ms/step - loss: 0.2741 - accuracy: 0.8882 - val_loss: 0.3578 - val_accuracy: 0.8475\n",
      "Epoch 9/20\n",
      "247/247 [==============================] - 1s 6ms/step - loss: 0.2649 - accuracy: 0.8925 - val_loss: 0.3631 - val_accuracy: 0.8450\n",
      "Epoch 10/20\n",
      "247/247 [==============================] - 1s 6ms/step - loss: 0.2556 - accuracy: 0.8978 - val_loss: 0.3705 - val_accuracy: 0.8451\n",
      "Epoch 11/20\n",
      "247/247 [==============================] - 1s 6ms/step - loss: 0.2464 - accuracy: 0.9016 - val_loss: 0.3728 - val_accuracy: 0.8480\n",
      "Epoch 12/20\n",
      "247/247 [==============================] - 1s 6ms/step - loss: 0.2375 - accuracy: 0.9058 - val_loss: 0.3841 - val_accuracy: 0.8439\n",
      "Epoch 13/20\n",
      "247/247 [==============================] - 1s 6ms/step - loss: 0.2279 - accuracy: 0.9094 - val_loss: 0.3887 - val_accuracy: 0.8426\n",
      "Epoch 14/20\n",
      "247/247 [==============================] - 1s 6ms/step - loss: 0.2186 - accuracy: 0.9134 - val_loss: 0.3984 - val_accuracy: 0.8442\n",
      "Epoch 15/20\n",
      "247/247 [==============================] - 1s 5ms/step - loss: 0.2116 - accuracy: 0.9157 - val_loss: 0.4115 - val_accuracy: 0.8444\n",
      "Epoch 16/20\n",
      "247/247 [==============================] - 1s 6ms/step - loss: 0.2029 - accuracy: 0.9199 - val_loss: 0.4197 - val_accuracy: 0.8429\n",
      "Epoch 17/20\n",
      "247/247 [==============================] - 1s 6ms/step - loss: 0.1972 - accuracy: 0.9225 - val_loss: 0.4473 - val_accuracy: 0.8425\n",
      "Epoch 18/20\n",
      "247/247 [==============================] - 1s 6ms/step - loss: 0.1898 - accuracy: 0.9258 - val_loss: 0.4502 - val_accuracy: 0.8421\n",
      "Epoch 19/20\n",
      "247/247 [==============================] - 1s 6ms/step - loss: 0.1841 - accuracy: 0.9288 - val_loss: 0.4620 - val_accuracy: 0.8415\n",
      "Epoch 20/20\n",
      "247/247 [==============================] - 1s 6ms/step - loss: 0.1779 - accuracy: 0.9316 - val_loss: 0.4825 - val_accuracy: 0.8414\n"
     ]
    }
   ],
   "source": [
    "#model 학습을 시작해 봅시다.\n",
    "model.compile(optimizer='adam',\n",
    "              loss ='binary_crossentropy',\n",
    "              metrics=(['accuracy'])\n",
    "             )\n",
    "epochs=20\n",
    "history = model.fit(partial_X_train, partial_y_train,epochs=epochs,\n",
    "          batch_size=512,\n",
    "          validation_data=(X_val, y_val),\n",
    "          verbose=1\n",
    "         )\n"
   ]
  },
  {
   "cell_type": "code",
   "execution_count": 16,
   "id": "c4b663ef",
   "metadata": {},
   "outputs": [
    {
     "name": "stdout",
     "output_type": "stream",
     "text": [
      "1537/1537 - 3s - loss: 0.4886 - accuracy: 0.8401\n",
      "[0.4885745644569397, 0.8401041626930237]\n"
     ]
    }
   ],
   "source": [
    "results = model.evaluate(X_test, y_test, verbose=2)\n",
    "\n",
    "print(results)"
   ]
  },
  {
   "cell_type": "markdown",
   "id": "51870639",
   "metadata": {},
   "source": [
    "# 6) Loss, Accuracy 그래프 시각화\n"
   ]
  },
  {
   "cell_type": "code",
   "execution_count": 17,
   "id": "b7798d34",
   "metadata": {},
   "outputs": [
    {
     "name": "stdout",
     "output_type": "stream",
     "text": [
      "dict_keys(['loss', 'accuracy', 'val_loss', 'val_accuracy'])\n"
     ]
    }
   ],
   "source": [
    "#model.fit() 과정 중의 train/validation loss, accuracy 등이 매 epoch마다 history 변수에 저장되어 있습니다.\n",
    "history_dict = history.history\n",
    "print(history_dict.keys())\n"
   ]
  },
  {
   "cell_type": "code",
   "execution_count": 18,
   "id": "95bcf1dc",
   "metadata": {},
   "outputs": [
    {
     "data": {
      "image/png": "[encoded data removed]",
      "text/plain": [
       "<Figure size 432x288 with 1 Axes>"
      ]
     },
     "metadata": {
      "needs_background": "light"
     },
     "output_type": "display_data"
    }
   ],
   "source": [
    "import matplotlib.pyplot as plt\n",
    "acc = history_dict['accuracy']\n",
    "val_acc = history_dict['val_accuracy']\n",
    "loss = history_dict['loss']\n",
    "val_loss = history_dict['val_loss']\n",
    "\n",
    "epochs = range(1, len(acc)+1)\n",
    "\n",
    "# \"bo\"는 \"파란색 점\"입니다.\n",
    "plt.plot(epochs, loss, 'bo', label='Training_loss')\n",
    "# 'b'는 파란색 실선이다.\n",
    "plt.plot(epochs, val_loss, 'b', label='Validation_loss')\n",
    "plt.title('Training, and  Validation Loss')\n",
    "plt.xlabel('epochs')\n",
    "plt.ylabel('loss')\n",
    "plt.legend()\n",
    "plt.show()\n"
   ]
  },
  {
   "cell_type": "markdown",
   "id": "81452812",
   "metadata": {},
   "source": [
    "# 7) 학습된 Embedding 레이어 분석"
   ]
  },
  {
   "cell_type": "code",
   "execution_count": 19,
   "id": "41abb294",
   "metadata": {},
   "outputs": [
    {
     "name": "stdout",
     "output_type": "stream",
     "text": [
      "(10000, 16)\n"
     ]
    }
   ],
   "source": [
    "embedding_layer = model.layers[0]\n",
    "weights = embedding_layer.get_weights()[0]\n",
    "print(weights.shape) # shape: (vocab_size, embedding_dim)\n",
    "\n"
   ]
  },
  {
   "cell_type": "code",
   "execution_count": 28,
   "id": "c8d8c2e8",
   "metadata": {},
   "outputs": [],
   "source": [
    "# 학습한 Embedding 파라미터를 파일에 써서 저장합니다. \n",
    "word2vec_file_path = os.getenv('HOME')+'/aiffel/exploration/word2vec.txt'\n",
    "\n",
    "f= open(word2vec_file_path, 'w')\n",
    "f.write('{} {}\\n'.format(vocab_size-4, word_vector_dim)) #몇개의 벡터를 얼마의 사이즈로 기재할지 \n",
    "\n",
    "# 단어 개수(에서 특수문자 4개는 제외하고)만큼의 워드 벡터를 파일에 기록합니다. \n",
    "vectors = model.get_weights()[0]\n",
    "for i in range(4, vocab_size):\n",
    "    f.write('{} {}\\n'.format(index_to_word[i], ' '.join(map(str, list(vectors[i, :])))))\n",
    "f.close()"
   ]
  },
  {
   "cell_type": "code",
   "execution_count": 29,
   "id": "57eb6e4b",
   "metadata": {},
   "outputs": [
    {
     "data": {
      "text/plain": [
       "array([ 0.20728523,  0.10288877,  0.0937077 , -0.14378497,  0.10947222,\n",
       "        0.1259484 ,  0.09809761, -0.07850978, -0.13718002, -0.0623871 ,\n",
       "       -0.21761651,  0.10238208, -0.15372705, -0.13577   , -0.1230868 ,\n",
       "        0.10220447], dtype=float32)"
      ]
     },
     "execution_count": 29,
     "metadata": {},
     "output_type": "execute_result"
    }
   ],
   "source": [
    "from gensim.models.keyedvectors import Word2VecKeyedVectors\n",
    "\n",
    "word_vectors = Word2VecKeyedVectors.load_word2vec_format(word2vec_file_path, binary=False)\n",
    "\n",
    "vector = word_vectors['사랑']\n",
    "vector"
   ]
  },
  {
   "cell_type": "markdown",
   "id": "d0fb9a80",
   "metadata": {},
   "source": [
    "'사랑'에 대한 wordvector"
   ]
  },
  {
   "cell_type": "code",
   "execution_count": 30,
   "id": "2a65964a",
   "metadata": {},
   "outputs": [
    {
     "data": {
      "text/plain": [
       "[('요괴', 0.9605420231819153),\n",
       " ('사라질', 0.9572589993476868),\n",
       " ('이소룡', 0.9546595215797424),\n",
       " ('판사', 0.9546411633491516),\n",
       " ('카이', 0.9539645314216614),\n",
       " ('여신', 0.9502131938934326),\n",
       " ('찌질이', 0.9496913552284241),\n",
       " ('일리', 0.949455976486206),\n",
       " ('짱', 0.9490277171134949),\n",
       " ('깊', 0.9487717151641846)]"
      ]
     },
     "execution_count": 30,
     "metadata": {},
     "output_type": "execute_result"
    }
   ],
   "source": [
    "# 워드 벡터가 의미 벡터 공간상에 유의미하게 학습되었는지 확인하는 방법 중에, \n",
    "# 단어를 하나 주고 그와 가장 유사한 단어와 그 유사도를 확인하는 방법이 있습니다. gensim을 사용하면 아래와 같이 해볼 수 있습니다.\n",
    "word_vectors.similar_by_word(\"사랑\")"
   ]
  },
  {
   "cell_type": "markdown",
   "id": "6545f5d5",
   "metadata": {},
   "source": [
    "'헉'에 대해서 유사도가 높은 순서대로 단어들을 출력해준다."
   ]
  },
  {
   "cell_type": "markdown",
   "id": "56d3ec2d",
   "metadata": {},
   "source": [
    "# 8) 한국어 Word2Vec 임베딩 활용하여 성능 개선"
   ]
  },
  {
   "cell_type": "code",
   "execution_count": 23,
   "id": "72338518",
   "metadata": {},
   "outputs": [
    {
     "data": {
      "text/plain": [
       "'/aiffel/aiffel/exploration/word2vec.txt'"
      ]
     },
     "execution_count": 23,
     "metadata": {},
     "output_type": "execute_result"
    }
   ],
   "source": [
    "word2vec_file_path"
   ]
  },
  {
   "cell_type": "code",
   "execution_count": 32,
   "id": "f11dff28",
   "metadata": {},
   "outputs": [],
   "source": [
    "from gensim.models.keyedvectors import Word2VecKeyedVectors\n",
    "word2vec_file_path = os.getenv(\"HOME\")+'/data/word2vec_ko.model'\n",
    "word_vectors2 = Word2VecKeyedVectors.load(word2vec_file_path)\n",
    "#word_vectors2 = KeyedVectors.load_word2vec_format(word2vec_path, binary=True, limit=1000000) #인코딩문제난다.\n",
    "vector = word_vectors2.wv['사랑']\n",
    "#vector2 = word_vectors['헉']"
   ]
  },
  {
   "cell_type": "code",
   "execution_count": 33,
   "id": "4d47a0a5",
   "metadata": {},
   "outputs": [
    {
     "data": {
      "text/plain": [
       "<gensim.models.keyedvectors.KeyedVectors at 0x7fe1f44a7a30>"
      ]
     },
     "execution_count": 33,
     "metadata": {},
     "output_type": "execute_result"
    }
   ],
   "source": [
    "word_vectors #기존에 사용한 모델"
   ]
  },
  {
   "cell_type": "code",
   "execution_count": 34,
   "id": "0a4aa463",
   "metadata": {},
   "outputs": [
    {
     "data": {
      "text/plain": [
       "<gensim.models.word2vec.Word2Vec at 0x7fe125a2f370>"
      ]
     },
     "execution_count": 34,
     "metadata": {},
     "output_type": "execute_result"
    }
   ],
   "source": [
    "word_vectors2 # word2vec 임베딩.. "
   ]
  },
  {
   "cell_type": "code",
   "execution_count": 36,
   "id": "4d038e09",
   "metadata": {},
   "outputs": [
    {
     "data": {
      "text/plain": [
       "[('이별', 0.7626414895057678),\n",
       " ('행복', 0.7550068497657776),\n",
       " ('슬픔', 0.7381505966186523),\n",
       " ('유혹', 0.7238055467605591),\n",
       " ('그리움', 0.7167419195175171),\n",
       " ('추억', 0.7143999338150024),\n",
       " ('꿈', 0.7089294195175171),\n",
       " ('애정', 0.7066588997840881),\n",
       " ('포옹', 0.7034594416618347),\n",
       " ('마음', 0.6972615718841553)]"
      ]
     },
     "execution_count": 36,
     "metadata": {},
     "output_type": "execute_result"
    }
   ],
   "source": [
    "word_vectors2.wv.similar_by_word('사랑') #word_vectors.wv 가 keyedvectors가 되서 이걸로 쭉 사용하면 된다."
   ]
  },
  {
   "cell_type": "code",
   "execution_count": 46,
   "id": "a12c581f",
   "metadata": {},
   "outputs": [
    {
     "data": {
      "text/plain": [
       "100"
      ]
     },
     "execution_count": 46,
     "metadata": {},
     "output_type": "execute_result"
    }
   ],
   "source": [
    "len(word_vectors2.wv[0])"
   ]
  },
  {
   "cell_type": "code",
   "execution_count": 47,
   "id": "f15688cc",
   "metadata": {},
   "outputs": [],
   "source": [
    "vocab_size = 10000    # 어휘 사전의 크기입니다(10,000개의 단어)\n",
    "word_vector_dim = 100  # 워드 벡터의 차원수\n",
    "embedding_matrix = np.random.rand(vocab_size, word_vector_dim)\n",
    "\n",
    "# embedding_matrix에 Word2Vec 워드 벡터를 단어 하나씩마다 차례차례 카피한다.\n",
    "for i in range(4,vocab_size):\n",
    "    if index_to_word[i] in word_vectors2.wv:\n",
    "        embedding_matrix[i] = word_vectors2.wv[index_to_word[i]]"
   ]
  },
  {
   "cell_type": "code",
   "execution_count": 95,
   "id": "b1e6e143",
   "metadata": {},
   "outputs": [
    {
     "name": "stdout",
     "output_type": "stream",
     "text": [
      "Model: \"sequential_25\"\n",
      "_________________________________________________________________\n",
      "Layer (type)                 Output Shape              Param #   \n",
      "=================================================================\n",
      "embedding_25 (Embedding)     (None, 41, 100)           1000000   \n",
      "_________________________________________________________________\n",
      "lstm_10 (LSTM)               (None, 41)                23288     \n",
      "_________________________________________________________________\n",
      "dense_38 (Dense)             (None, 16)                672       \n",
      "_________________________________________________________________\n",
      "dense_39 (Dense)             (None, 1)                 17        \n",
      "=================================================================\n",
      "Total params: 1,023,977\n",
      "Trainable params: 1,023,977\n",
      "Non-trainable params: 0\n",
      "_________________________________________________________________\n"
     ]
    }
   ],
   "source": [
    "from tensorflow.keras.initializers import Constant\n",
    "\n",
    "vocab_size = 10000    # 어휘 사전의 크기입니다(10,000개의 단어)\n",
    "word_vector_dim = 100   # 워드 벡터의 차원 수 \n",
    "\n",
    "# 모델 구성\n",
    "model = tf.keras.Sequential()\n",
    "model.add(tf.keras.layers.Embedding(vocab_size, \n",
    "                                 word_vector_dim, \n",
    "                                 embeddings_initializer=Constant(embedding_matrix),  # 카피한 임베딩을 여기서 활용\n",
    "                                 input_length=maxlen, \n",
    "                                 trainable=True))   # trainable을 True로 주면 Fine-tuning\n",
    "\n",
    "model.add(tf.keras.layers.LSTM(41)) \n",
    "#model.add(tf.keras.layers.Conv1D(16, 7, activation='relu'))\n",
    "#model.add(tf.keras.layers.GlobalMaxPooling1D())\n",
    "model.add(tf.keras.layers.Dense(16, activation='relu'))\n",
    "model.add(tf.keras.layers.Dense(1, activation='sigmoid')) \n",
    "\n",
    "model.summary()"
   ]
  },
  {
   "cell_type": "code",
   "execution_count": 96,
   "id": "4e8144a4",
   "metadata": {},
   "outputs": [
    {
     "name": "stdout",
     "output_type": "stream",
     "text": [
      "Epoch 1/10\n",
      "247/247 [==============================] - 3s 8ms/step - loss: 0.5088 - accuracy: 0.7422 - val_loss: 0.4126 - val_accuracy: 0.8137\n",
      "Epoch 2/10\n",
      "247/247 [==============================] - 2s 7ms/step - loss: 0.3765 - accuracy: 0.8334 - val_loss: 0.3619 - val_accuracy: 0.8389\n",
      "Epoch 3/10\n",
      "247/247 [==============================] - 2s 7ms/step - loss: 0.3300 - accuracy: 0.8580 - val_loss: 0.3438 - val_accuracy: 0.8497\n",
      "Epoch 4/10\n",
      "247/247 [==============================] - 2s 6ms/step - loss: 0.3022 - accuracy: 0.8719 - val_loss: 0.3352 - val_accuracy: 0.8540\n",
      "Epoch 5/10\n",
      "247/247 [==============================] - 2s 6ms/step - loss: 0.2818 - accuracy: 0.8817 - val_loss: 0.3399 - val_accuracy: 0.8514\n",
      "Epoch 6/10\n",
      "247/247 [==============================] - 2s 6ms/step - loss: 0.2666 - accuracy: 0.8891 - val_loss: 0.3348 - val_accuracy: 0.8576\n",
      "Epoch 7/10\n",
      "247/247 [==============================] - 2s 6ms/step - loss: 0.2511 - accuracy: 0.8979 - val_loss: 0.3341 - val_accuracy: 0.8579\n",
      "Epoch 8/10\n",
      "247/247 [==============================] - 2s 6ms/step - loss: 0.2368 - accuracy: 0.9039 - val_loss: 0.3535 - val_accuracy: 0.8498\n",
      "Epoch 9/10\n",
      "247/247 [==============================] - 2s 6ms/step - loss: 0.2256 - accuracy: 0.9099 - val_loss: 0.3510 - val_accuracy: 0.8574\n",
      "Epoch 10/10\n",
      "247/247 [==============================] - 2s 7ms/step - loss: 0.2121 - accuracy: 0.9168 - val_loss: 0.3594 - val_accuracy: 0.8557\n"
     ]
    }
   ],
   "source": [
    "# 학습의 진행\n",
    "model.compile(optimizer='adam',\n",
    "              loss='binary_crossentropy',\n",
    "              metrics=['accuracy'])\n",
    "              \n",
    "epochs=10  # 몇 epoch를 훈련하면 좋을지 결과를 보면서 바꾸어 봅시다. \n",
    "\n",
    "history = model.fit(partial_X_train,\n",
    "                    partial_y_train,\n",
    "                    epochs=epochs,\n",
    "                    batch_size=512,\n",
    "                    validation_data=(X_val, y_val),\n",
    "                    verbose=1)"
   ]
  },
  {
   "cell_type": "code",
   "execution_count": 97,
   "id": "0548648b",
   "metadata": {},
   "outputs": [
    {
     "name": "stdout",
     "output_type": "stream",
     "text": [
      "1537/1537 - 3s - loss: 0.3729 - accuracy: 0.8518\n",
      "[0.37286147475242615, 0.8518217206001282]\n"
     ]
    }
   ],
   "source": [
    "# 테스트셋을 통한 모델 평가\n",
    "results = model.evaluate(X_test,  y_test, verbose=2)\n",
    "\n",
    "print(results)"
   ]
  },
  {
   "cell_type": "markdown",
   "id": "615b7879",
   "metadata": {},
   "source": [
    "회고\n",
    "\n",
    "기존에 진행했던것은 영어였지만 이번에 우리가 진행해야하는 언어는 한국어였다.\n",
    "\n",
    "이 과정에서 사용하는 토크나이저도 다르고, 임베딩레이어에 적용할 모델 또한 한국어를 위한 모델을 사용해야했다.\n",
    "\n",
    "NLP쪽은 상당히 어려운내용인것 같다. \n",
    "\n",
    "gensim 유사단어 찾기 한것\n",
    "\n",
    "1537/1537 - 3s - loss: 0.4886 - accuracy: 0.8401\n",
    "[0.4885745644569397, 0.8401041626930237]\n",
    "\n",
    "사전학습 임베딩\n",
    "\n",
    "1537/1537 - 3s - loss: 0.5482 - accuracy: 0.8332\n",
    "[0.5482152700424194, 0.8331875205039978]\n",
    "\n",
    "으로 gensim 유사단어찾기가 더 정확하게 나왔다. 하지만 여기서 모델 하이퍼 파라미터 값을 수정해봐도 변하는 것이 없다.\n",
    "\n",
    "85%넘는 방법이 있을거같은데 찾고있다.\n",
    "\n",
    "--> LSTM을 사용, 41개의 unit으로 사용했다\n",
    "\n",
    "word2vec를 활용해서 네이버 감정리뷰 정확도가 85이상으로 나왔다.\n",
    "\n",
    "1537/1537 - 3s - loss: 0.3729 - accuracy: 0.8518\n",
    "[0.37286147475242615, 0.8518217206001282]\n",
    "\n"
   ]
  }
 ],
 "metadata": {
  "kernelspec": {
   "display_name": "Python 3 (ipykernel)",
   "language": "python",
   "name": "python3"
  },
  "language_info": {
   "codemirror_mode": {
    "name": "ipython",
    "version": 3
   },
   "file_extension": ".py",
   "mimetype": "text/x-python",
   "name": "python",
   "nbconvert_exporter": "python",
   "pygments_lexer": "ipython3",
   "version": "3.9.7"
  }
 },
 "nbformat": 4,
 "nbformat_minor": 5
}
