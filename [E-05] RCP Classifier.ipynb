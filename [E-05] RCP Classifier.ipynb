{
 "cells": [
  {
   "cell_type": "code",
   "execution_count": 1,
   "id": "03e0246c",
   "metadata": {},
   "outputs": [],
   "source": [
    "#[E-05] RCP Classifier with TensorFlow"
   ]
  },
  {
   "cell_type": "markdown",
   "id": "1caa0023",
   "metadata": {},
   "source": [
    "First, check the library that we will use"
   ]
  },
  {
   "cell_type": "code",
   "execution_count": 2,
   "id": "2b88e6e5",
   "metadata": {},
   "outputs": [
    {
     "name": "stdout",
     "output_type": "stream",
     "text": [
      "2.6.0\n",
      "1.21.4\n"
     ]
    }
   ],
   "source": [
    "import tensorflow as tf\n",
    "import numpy as np\n",
    "import matplotlib.pyplot as plt\n",
    "tf.random.set_seed(777)\n",
    "print(tf.__version__)\n",
    "print(np.__version__)"
   ]
  },
  {
   "cell_type": "markdown",
   "id": "0c2bb76b",
   "metadata": {},
   "source": [
    "Prepare RCP Datas"
   ]
  },
  {
   "cell_type": "markdown",
   "id": "a685135d",
   "metadata": {},
   "source": [
    "Load Datas and Resize Datas"
   ]
  },
  {
   "cell_type": "code",
   "execution_count": 3,
   "id": "68b92c7a",
   "metadata": {},
   "outputs": [
    {
     "name": "stdout",
     "output_type": "stream",
     "text": [
      "PIL Library import complete\n"
     ]
    }
   ],
   "source": [
    "from PIL import Image\n",
    "import glob\n",
    "import os\n",
    "\n",
    "print(\"PIL Library import complete\")"
   ]
  },
  {
   "cell_type": "markdown",
   "id": "96a60feb",
   "metadata": {},
   "source": [
    "<H2> INDEX </H2>\n",
    "\n",
    "1. resize the images\n",
    "\n",
    "2. load the images\n",
    "\n",
    "3. load the test images\n",
    "\n",
    "4. make a Sequential Model with Conv2D, Activation func='relu', MaxPooling2D , flatten, Dense... even Dropout\n",
    "\n",
    "5. compile and fit the model\n",
    "\n",
    "6. show the plot about train_acc (acc), val_acc(val_acc), train_loss (loss), val_loss (val_loss)\n",
    "\n",
    "7. model.evaluate\n",
    "\n",
    "8. show wrong predicted images!\n",
    "\n",
    "9. retrospect\n",
    "\n",
    "\n"
   ]
  },
  {
   "cell_type": "markdown",
   "id": "f0854f6d",
   "metadata": {},
   "source": [
    "RCP datas will be resized to 28x28"
   ]
  },
  {
   "cell_type": "code",
   "execution_count": 4,
   "id": "960801e8",
   "metadata": {},
   "outputs": [
    {
     "name": "stdout",
     "output_type": "stream",
     "text": [
      "500  images are ready to be resized\n",
      "500  images are resized \n",
      "scissor IMG resize complete\n",
      "500  images are ready to be resized\n",
      "500  images are resized \n",
      "rock IMG resize complete\n",
      "500  images are ready to be resized\n",
      "500  images are resized \n",
      "paper IMG resize complete\n"
     ]
    }
   ],
   "source": [
    "def resize_images(img_path):\n",
    "    images = glob.glob(img_path + \"/*.jpg\")\n",
    "    \n",
    "    print(len(images), \" images are ready to be resized\")\n",
    "    \n",
    "    # change the size as 28x28 and save\n",
    "    target_size=(28,28)\n",
    "    for img in images:\n",
    "        old_img = Image.open(img)\n",
    "        new_img = old_img.resize(target_size, Image.ANTIALIAS)\n",
    "        new_img.save(img, \"JPEG\")\n",
    "        \n",
    "    \n",
    "    print(len(images), \" images are resized \")\n",
    "    \n",
    "#load the scissor images from path\n",
    "image_dir_path = os.getenv(\"HOME\") + \"/aiffel/rock_scissor_paper/scissor\"\n",
    "resize_images(image_dir_path)\n",
    "\n",
    "print(\"scissor IMG resize complete\")\n",
    "\n",
    "image_rock_path = os.getenv(\"HOME\") + \"/aiffel/rock_scissor_paper/rock\"\n",
    "resize_images(image_rock_path)\n",
    "\n",
    "print(\"rock IMG resize complete\")\n",
    "\n",
    "image_paper_path = os.getenv(\"HOME\") + \"/aiffel/rock_scissor_paper/paper\"\n",
    "resize_images(image_paper_path)\n",
    "\n",
    "print(\"paper IMG resize complete\")"
   ]
  },
  {
   "cell_type": "code",
   "execution_count": 5,
   "id": "ff5052e1",
   "metadata": {},
   "outputs": [
    {
     "name": "stdout",
     "output_type": "stream",
     "text": [
      "Number of Train Data(x_train) is  1500\n",
      "x_train shape: (1500, 28, 28, 3)\n",
      "y_train shape: (1500,)\n"
     ]
    }
   ],
   "source": [
    "def load_data(img_path, number_of_data=1500):\n",
    "    #scissor : 0, rock : 1 , paper: 2 to be labelled\n",
    "    img_size=28\n",
    "    color=3\n",
    "    #make the matrix which includes IMG Datas and Label Datas\n",
    "    imgs = np.zeros(number_of_data*img_size*img_size*color, dtype=np.int32).reshape(number_of_data,img_size,img_size,color)\n",
    "    labels = np.zeros(number_of_data, dtype=np.int32)\n",
    "    \n",
    "    idx=0\n",
    "    for file in glob.iglob(img_path+'/scissor/*.jpg'):\n",
    "        img = np.array(Image.open(file), dtype=np.int32)\n",
    "        imgs[idx,:,:,:]=img\n",
    "        labels[idx]=0\n",
    "        idx=idx+1\n",
    "    \n",
    "    for file in glob.iglob(img_path+'/rock/*.jpg'):\n",
    "        img = np.array(Image.open(file), dtype=np.int32)\n",
    "        imgs[idx,:,:,:]=img\n",
    "        labels[idx]=1\n",
    "        idx=idx+1\n",
    "    \n",
    "    for file in glob.iglob(img_path+'/paper/*.jpg'):\n",
    "        img = np.array(Image.open(file),dtype=np.int32)\n",
    "        imgs[idx,:,:,:]=img\n",
    "        labels[idx]=2\n",
    "        idx=idx+1\n",
    "    \n",
    "    print(\"Number of Train Data(x_train) is \",idx)\n",
    "    return imgs, labels\n",
    "\n",
    "image_dir_path=os.getenv(\"HOME\")+'/aiffel/rock_scissor_paper'\n",
    "(x_train_use,y_train_use) = load_data(image_dir_path)\n",
    "#x_train_use = np.concatenate((x_train, x_train2), axis = 0)\n",
    "#y_train_use = np.concatenate((y_train, y_train2), axis = 0)\n",
    "\n",
    "\n",
    "#input datas need to be 0~1  => normalized\n",
    "x_train_norm = x_train_use/255.0\n",
    "\n",
    "print('x_train shape: {}'.format(x_train_use.shape))\n",
    "print('y_train shape: {}'.format(y_train_use.shape))\n",
    "\n",
    "\n",
    "    "
   ]
  },
  {
   "cell_type": "markdown",
   "id": "9b910c4a",
   "metadata": {},
   "source": [
    "imgs : initialized as 0 with size ( 300, 28, 28, 3)\n",
    "\n",
    "labels : initalized as 0 with size (300)\n",
    "\n",
    "and that imgs and labels will be changed as real IMG's numpy array\n",
    "\n",
    "idx[0:100] : scissor\n",
    "\n",
    "idx[100:200] : rock\n",
    "\n",
    "idx[200:300] : paper\n",
    "\n",
    "so idx is just initialized as a number 0\n",
    "\n"
   ]
  },
  {
   "cell_type": "markdown",
   "id": "0e8412fb",
   "metadata": {},
   "source": [
    "show the IMGs"
   ]
  },
  {
   "cell_type": "code",
   "execution_count": 6,
   "id": "50a43b07",
   "metadata": {},
   "outputs": [
    {
     "name": "stdout",
     "output_type": "stream",
     "text": [
      "label:  0\n"
     ]
    },
    {
     "data": {
      "image/png": "[encoded data removed]",
      "text/plain": [
       "<Figure size 432x288 with 1 Axes>"
      ]
     },
     "metadata": {
      "needs_background": "light"
     },
     "output_type": "display_data"
    }
   ],
   "source": [
    "plt.imshow(x_train_use[5])\n",
    "print('label: ', y_train_use[5])"
   ]
  },
  {
   "cell_type": "markdown",
   "id": "191073bd",
   "metadata": {},
   "source": [
    "Used Model: Seuquential\n",
    "Conv2D, Activate='relu', MaxPool2D\n",
    "flatten, Dense\n",
    "\n",
    "-> in result, there are 3 outputs"
   ]
  },
  {
   "cell_type": "markdown",
   "id": "be04e6de",
   "metadata": {},
   "source": [
    "모델은 다음과 같이 설정한다\n",
    "\n",
    "- 분류 모델로써 순차모델을 사용\n",
    "\n",
    "- 기본 conv2D의 활성화함수는 relu로 수행하겠다.\n",
    "\n",
    "- conv2D, act, MaxPool2D의 3겹, Flatten하여 평활화 한 후 , Dense 3겹, 배치정규화, 드롭아웃을 통해 오버피팅 방지 후 최종 출력 3층 softmax\n",
    "\n"
   ]
  },
  {
   "cell_type": "code",
   "execution_count": 7,
   "id": "5c16ffea",
   "metadata": {},
   "outputs": [
    {
     "name": "stdout",
     "output_type": "stream",
     "text": [
      "Model: \"sequential\"\n",
      "_________________________________________________________________\n",
      "Layer (type)                 Output Shape              Param #   \n",
      "=================================================================\n",
      "conv2d (Conv2D)              (None, 28, 28, 16)        448       \n",
      "_________________________________________________________________\n",
      "max_pooling2d (MaxPooling2D) (None, 14, 14, 16)        0         \n",
      "_________________________________________________________________\n",
      "conv2d_1 (Conv2D)            (None, 14, 14, 32)        4640      \n",
      "_________________________________________________________________\n",
      "max_pooling2d_1 (MaxPooling2 (None, 7, 7, 32)          0         \n",
      "_________________________________________________________________\n",
      "conv2d_2 (Conv2D)            (None, 7, 7, 64)          18496     \n",
      "_________________________________________________________________\n",
      "max_pooling2d_2 (MaxPooling2 (None, 3, 3, 64)          0         \n",
      "_________________________________________________________________\n",
      "flatten (Flatten)            (None, 576)               0         \n",
      "_________________________________________________________________\n",
      "dense (Dense)                (None, 64)                36928     \n",
      "_________________________________________________________________\n",
      "dense_1 (Dense)              (None, 32)                2080      \n",
      "_________________________________________________________________\n",
      "dense_2 (Dense)              (None, 16)                528       \n",
      "_________________________________________________________________\n",
      "batch_normalization (BatchNo (None, 16)                64        \n",
      "_________________________________________________________________\n",
      "dropout (Dropout)            (None, 16)                0         \n",
      "_________________________________________________________________\n",
      "dense_3 (Dense)              (None, 3)                 51        \n",
      "=================================================================\n",
      "Total params: 63,235\n",
      "Trainable params: 63,203\n",
      "Non-trainable params: 32\n",
      "_________________________________________________________________\n"
     ]
    }
   ],
   "source": [
    "import tensorflow as tf\n",
    "from tensorflow import keras\n",
    "import numpy as np\n",
    "\n",
    "\n",
    "# model을 직접 만들어 보세요.\n",
    "# Hint! model의 입력/출력부에 특히 유의해 주세요. 가위바위보 데이터셋은 MNIST 데이터셋과 어떤 점이 달라졌나요?\n",
    "model = keras.models.Sequential()\n",
    "#model.add(tf.keras.initializers.he_normal() )\n",
    "act ='relu'\n",
    "model.add(keras.layers.Conv2D(16,(3,3), activation=act, input_shape=(28,28,3) , padding='same'))\n",
    "model.add(keras.layers.MaxPool2D((2,2)))\n",
    "model.add(keras.layers.Conv2D(32,(3,3), activation=act, padding='same'))\n",
    "model.add(keras.layers.MaxPool2D((2,2)))\n",
    "model.add(keras.layers.Conv2D(64,(3,3), activation=act , padding='same'))\n",
    "model.add(keras.layers.MaxPool2D((2,2)))\n",
    "#64 \n",
    "model.add(keras.layers.Flatten())\n",
    "#model.add(keras.layers.Dense(128, activation=act)) #learnable layer - fully connectec layer   torch- linear\n",
    "model.add(keras.layers.Dense(64, activation=act)) \n",
    "model.add(keras.layers.Dense(32, activation=act)) \n",
    "model.add(keras.layers.Dense(16, activation=act))\n",
    "model.add(keras.layers.BatchNormalization())\n",
    "model.add(keras.layers.Dropout(rate=0.5))\n",
    "model.add(keras.layers.Dense(3, activation='softmax'))\n",
    "\n",
    "model.summary()\n",
    "\n"
   ]
  },
  {
   "cell_type": "markdown",
   "id": "f3dcc35b",
   "metadata": {},
   "source": [
    "To classify Multiclass (Scissor(0), Rock(1), Paper(2)), I use Adam optimizer, sparse_categorical_crossentropy loss, accuracy metric"
   ]
  },
  {
   "cell_type": "code",
   "execution_count": 8,
   "id": "d5c1b92e",
   "metadata": {},
   "outputs": [
    {
     "name": "stdout",
     "output_type": "stream",
     "text": [
      "Epoch 1/20\n",
      "50/50 - 3s - loss: 0.9518 - accuracy: 0.5400 - val_loss: 1.1813 - val_accuracy: 0.0000e+00\n",
      "Epoch 2/20\n",
      "50/50 - 0s - loss: 0.6252 - accuracy: 0.7617 - val_loss: 1.3507 - val_accuracy: 0.0000e+00\n",
      "Epoch 3/20\n",
      "50/50 - 0s - loss: 0.4598 - accuracy: 0.8233 - val_loss: 1.1370 - val_accuracy: 0.0767\n",
      "Epoch 4/20\n",
      "50/50 - 0s - loss: 0.3415 - accuracy: 0.8875 - val_loss: 1.5581 - val_accuracy: 0.0000e+00\n",
      "Epoch 5/20\n",
      "50/50 - 0s - loss: 0.2909 - accuracy: 0.9033 - val_loss: 1.0407 - val_accuracy: 0.3200\n",
      "Epoch 6/20\n",
      "50/50 - 0s - loss: 0.2191 - accuracy: 0.9408 - val_loss: 0.9838 - val_accuracy: 0.4133\n",
      "Epoch 7/20\n",
      "50/50 - 0s - loss: 0.2033 - accuracy: 0.9300 - val_loss: 0.8436 - val_accuracy: 0.4267\n",
      "Epoch 8/20\n",
      "50/50 - 0s - loss: 0.1607 - accuracy: 0.9508 - val_loss: 5.2975 - val_accuracy: 0.0000e+00\n",
      "Epoch 9/20\n",
      "50/50 - 0s - loss: 0.1342 - accuracy: 0.9642 - val_loss: 0.1455 - val_accuracy: 0.9600\n",
      "Epoch 10/20\n",
      "50/50 - 0s - loss: 0.1183 - accuracy: 0.9717 - val_loss: 0.2413 - val_accuracy: 0.9267\n",
      "Epoch 11/20\n",
      "50/50 - 0s - loss: 0.1119 - accuracy: 0.9642 - val_loss: 1.0370 - val_accuracy: 0.4867\n",
      "Epoch 12/20\n",
      "50/50 - 0s - loss: 0.0956 - accuracy: 0.9767 - val_loss: 0.0379 - val_accuracy: 0.9833\n",
      "Epoch 13/20\n",
      "50/50 - 0s - loss: 0.0949 - accuracy: 0.9775 - val_loss: 0.9390 - val_accuracy: 0.6433\n",
      "Epoch 14/20\n",
      "50/50 - 0s - loss: 0.1022 - accuracy: 0.9658 - val_loss: 0.0466 - val_accuracy: 0.9833\n",
      "Epoch 15/20\n",
      "50/50 - 0s - loss: 0.1113 - accuracy: 0.9608 - val_loss: 3.9876 - val_accuracy: 0.0533\n",
      "Epoch 16/20\n",
      "50/50 - 0s - loss: 0.0855 - accuracy: 0.9733 - val_loss: 0.3015 - val_accuracy: 0.8733\n",
      "Epoch 17/20\n",
      "50/50 - 0s - loss: 0.0927 - accuracy: 0.9708 - val_loss: 0.3206 - val_accuracy: 0.8967\n",
      "Epoch 18/20\n",
      "50/50 - 0s - loss: 0.0672 - accuracy: 0.9850 - val_loss: 0.0121 - val_accuracy: 0.9967\n",
      "Epoch 19/20\n",
      "50/50 - 0s - loss: 0.0549 - accuracy: 0.9858 - val_loss: 1.3560 - val_accuracy: 0.5767\n",
      "Epoch 20/20\n",
      "50/50 - 0s - loss: 0.0520 - accuracy: 0.9875 - val_loss: 0.4652 - val_accuracy: 0.8833\n"
     ]
    }
   ],
   "source": [
    "# model을 학습시키는 코드를 직접 작성해 보세요.\n",
    "# Hint! model.compile()과 model.fit()을 사용해 봅시다.\n",
    "\n",
    "#model compile -> model Fit -> model Predict\n",
    "#opt = tf.keras.optimizers.RMSprop(learning_rate = 0.01)\n",
    "model.compile(optimizer='Adam', loss='sparse_categorical_crossentropy', metrics=['accuracy'])\n",
    "\n",
    "#train model\n",
    "history = model.fit(x_train_norm, y_train_use, validation_split = 0.2, batch_size = 24, epochs=20,  verbose=2)\n"
   ]
  },
  {
   "cell_type": "code",
   "execution_count": 9,
   "id": "025bcb9f",
   "metadata": {},
   "outputs": [
    {
     "name": "stdout",
     "output_type": "stream",
     "text": [
      "<class 'dict'>\n"
     ]
    },
    {
     "data": {
      "image/png": "[encoded data removed]",
      "text/plain": [
       "<Figure size 432x288 with 1 Axes>"
      ]
     },
     "metadata": {
      "needs_background": "light"
     },
     "output_type": "display_data"
    },
    {
     "data": {
      "image/png": "[encoded data removed]",
      "text/plain": [
       "<Figure size 432x288 with 1 Axes>"
      ]
     },
     "metadata": {
      "needs_background": "light"
     },
     "output_type": "display_data"
    }
   ],
   "source": [
    "print(type(history.history))\n",
    "plt.plot(history.history['loss'])\n",
    "plt.plot(history.history['val_loss'])\n",
    "plt.legend(['loss','val_loss'])\n",
    "plt.show()\n",
    "\n",
    "plt.plot(history.history['accuracy'])\n",
    "plt.plot(history.history['val_accuracy'])\n",
    "plt.legend(['acc','val_acc'])\n",
    "plt.show()"
   ]
  },
  {
   "cell_type": "markdown",
   "id": "6d70478a",
   "metadata": {},
   "source": [
    "그래프가 많이 왔다갔다하는데 이를 좀더 평탄하게 하고싶지만 지식이 얕다"
   ]
  },
  {
   "cell_type": "code",
   "execution_count": 10,
   "id": "6a5b86f6",
   "metadata": {},
   "outputs": [
    {
     "name": "stdout",
     "output_type": "stream",
     "text": [
      "100  images are ready to be resized\n",
      "100  images are resized \n",
      "100  images are ready to be resized\n",
      "100  images are resized \n",
      "100  images are ready to be resized\n",
      "100  images are resized \n",
      "Number of Train Data(x_train) is  300\n",
      "x_test shape: (1500, 28, 28, 3)\n",
      "y_test shape: (1500,)\n"
     ]
    }
   ],
   "source": [
    "# x_test, y_test를 만드는 방법은 x_train, y_train을 만드는 방법과 아주 유사합니다.\n",
    "img_test_rock_path = os.getenv(\"HOME\")+'/aiffel/rsp_test/rock'\n",
    "img_test_scissor_path = os.getenv(\"HOME\")+'/aiffel/rsp_test/scissor'\n",
    "img_test_paper_path = os.getenv(\"HOME\")+'/aiffel/rsp_test/paper'\n",
    "resize_images(img_test_rock_path)\n",
    "resize_images(img_test_scissor_path)\n",
    "resize_images(img_test_paper_path)\n",
    "\n",
    "image_dir_path = os.getenv(\"HOME\") + \"/aiffel/rsp_test\"\n",
    "(x_test, y_test)=load_data(image_dir_path)\n",
    "x_test_norm = x_test/255.0 \n",
    "x_test_norm = x_test_norm.reshape(-1,28,28,3)\n",
    "# 입력은 0~1 사이의 값으로 정규화\n",
    "print(\"x_test shape: {}\".format(x_test.shape))\n",
    "print(\"y_test shape: {}\".format(y_test.shape))"
   ]
  },
  {
   "cell_type": "code",
   "execution_count": 11,
   "id": "857ca5b8",
   "metadata": {},
   "outputs": [
    {
     "name": "stdout",
     "output_type": "stream",
     "text": [
      "47/47 - 0s - loss: 0.7487 - accuracy: 0.8693\n",
      "test_loss : 0.7486857175827026\n",
      "test_accuracy : 0.8693333268165588\n"
     ]
    }
   ],
   "source": [
    "#모델 시험\n",
    "test_loss, test_accuracy = model.evaluate(x_test_norm, y_test, verbose=2)\n",
    "print(f\"test_loss : {test_loss}\")\n",
    "print(f\"test_accuracy : {test_accuracy}\")"
   ]
  },
  {
   "cell_type": "markdown",
   "id": "6293e564",
   "metadata": {},
   "source": [
    "0.323333..이 나오게되서 어떻게 틀리는지 살펴보았다. -> 이미지 수를 늘려서 수행했더니 0.8693이 나왔다"
   ]
  },
  {
   "cell_type": "code",
   "execution_count": 12,
   "id": "467d046e",
   "metadata": {},
   "outputs": [],
   "source": [
    "predicted_result = model.predict(x_test_norm)\n",
    "predicted_labels = np.argmax(predicted_result, axis=1)"
   ]
  },
  {
   "cell_type": "code",
   "execution_count": 13,
   "id": "44a6beda",
   "metadata": {},
   "outputs": [
    {
     "name": "stdout",
     "output_type": "stream",
     "text": [
      "[228, 161, 27, 100, 65]\n",
      "틀린 이미지 갯수 :  196\n",
      "예측확률분포 : [2.3917659e-07 9.9828243e-01 1.7174055e-03]\n",
      "라벨 : 2, 예측결과: 1\n"
     ]
    },
    {
     "data": {
      "image/png": "[encoded data removed]",
      "text/plain": [
       "<Figure size 432x288 with 1 Axes>"
      ]
     },
     "metadata": {
      "needs_background": "light"
     },
     "output_type": "display_data"
    },
    {
     "name": "stdout",
     "output_type": "stream",
     "text": [
      "예측확률분포 : [9.8283976e-01 1.7153587e-02 6.6923403e-06]\n",
      "라벨 : 1, 예측결과: 0\n"
     ]
    },
    {
     "data": {
      "image/png": "[encoded data removed]",
      "text/plain": [
       "<Figure size 432x288 with 1 Axes>"
      ]
     },
     "metadata": {
      "needs_background": "light"
     },
     "output_type": "display_data"
    },
    {
     "name": "stdout",
     "output_type": "stream",
     "text": [
      "예측확률분포 : [6.6031527e-04 9.9933821e-01 1.4855755e-06]\n",
      "라벨 : 0, 예측결과: 1\n"
     ]
    },
    {
     "data": {
      "image/png": "[encoded data removed]",
      "text/plain": [
       "<Figure size 432x288 with 1 Axes>"
      ]
     },
     "metadata": {
      "needs_background": "light"
     },
     "output_type": "display_data"
    },
    {
     "name": "stdout",
     "output_type": "stream",
     "text": [
      "예측확률분포 : [9.1082591e-01 8.9173265e-02 8.4328678e-07]\n",
      "라벨 : 1, 예측결과: 0\n"
     ]
    },
    {
     "data": {
      "image/png": "[encoded data removed]",
      "text/plain": [
       "<Figure size 432x288 with 1 Axes>"
      ]
     },
     "metadata": {
      "needs_background": "light"
     },
     "output_type": "display_data"
    },
    {
     "name": "stdout",
     "output_type": "stream",
     "text": [
      "예측확률분포 : [1.6605831e-04 9.9983132e-01 2.5690072e-06]\n",
      "라벨 : 0, 예측결과: 1\n"
     ]
    },
    {
     "data": {
      "image/png": "[encoded data removed]",
      "text/plain": [
       "<Figure size 432x288 with 1 Axes>"
      ]
     },
     "metadata": {
      "needs_background": "light"
     },
     "output_type": "display_data"
    }
   ],
   "source": [
    "import random\n",
    "wrong_predict_list=[]\n",
    "for i, _ in enumerate(predicted_labels):\n",
    "    #i번째 test_labels와 y_test가 다른 경우만 모아보자\n",
    "    if predicted_labels[i] != y_test[i]:\n",
    "        wrong_predict_list.append(i)\n",
    "        \n",
    "#wrong_predict_list에서 랜덤 5개만 뽑아보자\n",
    "samples = random.choices(population = wrong_predict_list,k=5)\n",
    "print(samples) #index값을 저장해놓은 wrong_predict_list에서 랜덤 5개 뽑앗으므로 결국 index값만 각 결과, 라벨에 넣어주면 나온다.\n",
    "print(\"틀린 이미지 갯수 : \", len(wrong_predict_list))\n",
    "for n in samples:\n",
    "    print(\"예측확률분포 : \" + str(predicted_result[n]))\n",
    "    print(\"라벨 : \"+ str(y_test[n]) + \", 예측결과: \" + str(predicted_labels[n]))\n",
    "    \n",
    "    plt.imshow(x_test[n], cmap=plt.cm.binary)\n",
    "    plt.show()\n",
    "    \n",
    "#0 가위, 1 바위 2 보"
   ]
  },
  {
   "cell_type": "markdown",
   "id": "1b14e057",
   "metadata": {},
   "source": [
    "<h2> 회고</h2>\n",
    "한번 영어로 쥬피터 노트북을 써보려해서 영어로 사용햇지만 나중의 내 이해를 위해 다시 한글로 썻다 ㅋㅋ\n",
    "\n",
    "resize the images\n",
    "\n",
    "load the images 500x3 =1500 , val 0.2 => 300 \n",
    "\n",
    "load the test images 100 x 3 = 300\n",
    "\n",
    "train : val : test = 1200 : 300 : 300 = 4:1:1\n",
    "\n",
    "make a Sequential Model with Conv2D, Activation func='relu', MaxPooling2D , flatten, Dense... even Dropout\n",
    "\n",
    "compile and fit the model (loss, acc, val_loss, val_acc)\n",
    "\n",
    "show the plot about train_acc (acc), val_acc(val_acc), train_loss (loss), val_loss (val_loss) - visualization\n",
    "\n",
    "model.evaluate (test acc, loss)\n",
    "\n",
    "show wrong predicted images!\n",
    "\n",
    "retrospect\n",
    "\n",
    "다음의 과정을 거치면서 수행을 했다. 학습하거나 예측할떄 넣는 x 데이터는 /255를 통해 정규화를 수행한다 (color가 0~255이므로)\n",
    "\n",
    "처음에는 데이터 300장만 가지고 모델훈련뒤 테스트를 돌려보았으나 0.29~ 0.47의 랜덤 acc들이 나왔고 loss도 4~9의 큰 수가 나왔다.\n",
    "\n",
    "그래서 다른 그루분들의 손 사진데이터를 가지고 훈련하니 test에 대한 정확도가 0.86이 나왔다. \n",
    "\n",
    "결국 중요한것은 데이터셋의 풍부함 인 것 같다. 그거가지고도 안됬으면 데이터를 좀더 만지작 했을 것이다.\n",
    "\n",
    "다른 데이터가지고도 이런식으로 학습시키고 예측하고싶은 마음이 있다. stable diffusion 세미나도 두번 들어봤는데\n",
    "\n",
    "어려워던 내용이 태반이라 그 내용을 이해하기위해선 기본적으로 어떤 모델에는 어떤 파라미터를 두고 돌리는게 좋을지\n",
    "\n",
    "기억하고 사용하는것이 유리할 것 같다. \n",
    "\n",
    "이 기본적인 내용을 기억하고 바로 문제에 적용하기위해선 많은 데이터에 대해서 다뤄보고, 또 모델을 설정해줘야 한다. "
   ]
  }
 ],
 "metadata": {
  "kernelspec": {
   "display_name": "Python 3 (ipykernel)",
   "language": "python",
   "name": "python3"
  },
  "language_info": {
   "codemirror_mode": {
    "name": "ipython",
    "version": 3
   },
   "file_extension": ".py",
   "mimetype": "text/x-python",
   "name": "python",
   "nbconvert_exporter": "python",
   "pygments_lexer": "ipython3",
   "version": "3.9.7"
  }
 },
 "nbformat": 4,
 "nbformat_minor": 5
}
